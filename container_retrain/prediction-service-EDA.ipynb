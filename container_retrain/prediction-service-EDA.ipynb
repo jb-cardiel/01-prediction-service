{
 "cells": [
  {
   "cell_type": "code",
   "execution_count": 1,
   "metadata": {},
   "outputs": [
    {
     "name": "stderr",
     "output_type": "stream",
     "text": [
      "/home/baylonj/anaconda3/lib/python3.8/site-packages/pandas/core/computation/expressions.py:20: UserWarning: Pandas requires version '2.7.3' or newer of 'numexpr' (version '2.7.1' currently installed).\n",
      "  from pandas.core.computation.check import NUMEXPR_INSTALLED\n"
     ]
    }
   ],
   "source": [
    "import numpy as np\n",
    "import pandas as pd\n",
    "import matplotlib.pyplot as plt\n",
    "from sklearn.model_selection import train_test_split\n",
    "from sklearn.base import TransformerMixin, BaseEstimator\n",
    "from sklearn.preprocessing import OneHotEncoder, PolynomialFeatures, MinMaxScaler\n",
    "from sklearn.pipeline import Pipeline\n",
    "\n",
    "from xgboost import XGBClassifier\n",
    "\n",
    "from sklearn.linear_model import LogisticRegression\n",
    "\n",
    "from sklearn.metrics import precision_score, recall_score, roc_auc_score, accuracy_score, f1_score"
   ]
  },
  {
   "cell_type": "code",
   "execution_count": null,
   "metadata": {},
   "outputs": [],
   "source": []
  },
  {
   "cell_type": "markdown",
   "metadata": {},
   "source": [
    "# Fetch data from ucirepo, bank marketing data"
   ]
  },
  {
   "cell_type": "raw",
   "metadata": {},
   "source": [
    "from ucimlrepo import fetch_ucirepo "
   ]
  },
  {
   "cell_type": "raw",
   "metadata": {},
   "source": [
    "# fetch dataset \n",
    "data = fetch_ucirepo(id=222) "
   ]
  },
  {
   "cell_type": "raw",
   "metadata": {
    "scrolled": true
   },
   "source": [
    "data[\"metadata\"]#[\"feature_types\"]"
   ]
  },
  {
   "cell_type": "raw",
   "metadata": {},
   "source": [
    "dataset = data[\"data\"][\"features\"]\n",
    "dataset[\"y\"] = data[\"data\"][\"targets\"]\n",
    "dataset.to_csv(\"data/bank_marketing_dataset.csv\")"
   ]
  },
  {
   "cell_type": "raw",
   "metadata": {},
   "source": []
  },
  {
   "cell_type": "markdown",
   "metadata": {},
   "source": [
    "# Load data"
   ]
  },
  {
   "cell_type": "code",
   "execution_count": 19,
   "metadata": {},
   "outputs": [],
   "source": [
    "dataset = pd.read_csv(\"data/dataset.csv\")"
   ]
  },
  {
   "cell_type": "code",
   "execution_count": 20,
   "metadata": {},
   "outputs": [
    {
     "data": {
      "text/html": [
       "<div>\n",
       "<style scoped>\n",
       "    .dataframe tbody tr th:only-of-type {\n",
       "        vertical-align: middle;\n",
       "    }\n",
       "\n",
       "    .dataframe tbody tr th {\n",
       "        vertical-align: top;\n",
       "    }\n",
       "\n",
       "    .dataframe thead th {\n",
       "        text-align: right;\n",
       "    }\n",
       "</style>\n",
       "<table border=\"1\" class=\"dataframe\">\n",
       "  <thead>\n",
       "    <tr style=\"text-align: right;\">\n",
       "      <th></th>\n",
       "      <th>id</th>\n",
       "      <th>age</th>\n",
       "      <th>job</th>\n",
       "      <th>marital</th>\n",
       "      <th>education</th>\n",
       "      <th>default</th>\n",
       "      <th>balance</th>\n",
       "      <th>housing</th>\n",
       "      <th>loan</th>\n",
       "      <th>contact</th>\n",
       "      <th>day_of_week</th>\n",
       "      <th>month</th>\n",
       "      <th>duration</th>\n",
       "      <th>campaign</th>\n",
       "      <th>pdays</th>\n",
       "      <th>previous</th>\n",
       "      <th>poutcome</th>\n",
       "      <th>y</th>\n",
       "    </tr>\n",
       "  </thead>\n",
       "  <tbody>\n",
       "    <tr>\n",
       "      <th>0</th>\n",
       "      <td>095e5d72-63d0-4c44-aba2-123aaff0f881</td>\n",
       "      <td>58</td>\n",
       "      <td>management</td>\n",
       "      <td>married</td>\n",
       "      <td>tertiary</td>\n",
       "      <td>no</td>\n",
       "      <td>2143</td>\n",
       "      <td>yes</td>\n",
       "      <td>no</td>\n",
       "      <td>NaN</td>\n",
       "      <td>5</td>\n",
       "      <td>may</td>\n",
       "      <td>261</td>\n",
       "      <td>1</td>\n",
       "      <td>-1</td>\n",
       "      <td>0</td>\n",
       "      <td>NaN</td>\n",
       "      <td>no</td>\n",
       "    </tr>\n",
       "    <tr>\n",
       "      <th>1</th>\n",
       "      <td>0c403949-9754-4394-b72c-61c396a3cc76</td>\n",
       "      <td>44</td>\n",
       "      <td>technician</td>\n",
       "      <td>single</td>\n",
       "      <td>secondary</td>\n",
       "      <td>no</td>\n",
       "      <td>29</td>\n",
       "      <td>yes</td>\n",
       "      <td>no</td>\n",
       "      <td>NaN</td>\n",
       "      <td>5</td>\n",
       "      <td>may</td>\n",
       "      <td>151</td>\n",
       "      <td>1</td>\n",
       "      <td>-1</td>\n",
       "      <td>0</td>\n",
       "      <td>NaN</td>\n",
       "      <td>no</td>\n",
       "    </tr>\n",
       "    <tr>\n",
       "      <th>2</th>\n",
       "      <td>d8563c79-fcc0-4cdc-8d80-c871836da85c</td>\n",
       "      <td>33</td>\n",
       "      <td>entrepreneur</td>\n",
       "      <td>married</td>\n",
       "      <td>secondary</td>\n",
       "      <td>no</td>\n",
       "      <td>2</td>\n",
       "      <td>yes</td>\n",
       "      <td>yes</td>\n",
       "      <td>NaN</td>\n",
       "      <td>5</td>\n",
       "      <td>may</td>\n",
       "      <td>76</td>\n",
       "      <td>1</td>\n",
       "      <td>-1</td>\n",
       "      <td>0</td>\n",
       "      <td>NaN</td>\n",
       "      <td>no</td>\n",
       "    </tr>\n",
       "    <tr>\n",
       "      <th>3</th>\n",
       "      <td>43ebc39f-9a3d-41b5-a97d-4e168610ffd6</td>\n",
       "      <td>47</td>\n",
       "      <td>blue-collar</td>\n",
       "      <td>married</td>\n",
       "      <td>NaN</td>\n",
       "      <td>no</td>\n",
       "      <td>1506</td>\n",
       "      <td>yes</td>\n",
       "      <td>no</td>\n",
       "      <td>NaN</td>\n",
       "      <td>5</td>\n",
       "      <td>may</td>\n",
       "      <td>92</td>\n",
       "      <td>1</td>\n",
       "      <td>-1</td>\n",
       "      <td>0</td>\n",
       "      <td>NaN</td>\n",
       "      <td>no</td>\n",
       "    </tr>\n",
       "    <tr>\n",
       "      <th>4</th>\n",
       "      <td>e6c300d4-35b9-4dc1-acb8-120959389cf0</td>\n",
       "      <td>33</td>\n",
       "      <td>NaN</td>\n",
       "      <td>single</td>\n",
       "      <td>NaN</td>\n",
       "      <td>no</td>\n",
       "      <td>1</td>\n",
       "      <td>no</td>\n",
       "      <td>no</td>\n",
       "      <td>NaN</td>\n",
       "      <td>5</td>\n",
       "      <td>may</td>\n",
       "      <td>198</td>\n",
       "      <td>1</td>\n",
       "      <td>-1</td>\n",
       "      <td>0</td>\n",
       "      <td>NaN</td>\n",
       "      <td>no</td>\n",
       "    </tr>\n",
       "  </tbody>\n",
       "</table>\n",
       "</div>"
      ],
      "text/plain": [
       "                                     id  age           job  marital  \\\n",
       "0  095e5d72-63d0-4c44-aba2-123aaff0f881   58    management  married   \n",
       "1  0c403949-9754-4394-b72c-61c396a3cc76   44    technician   single   \n",
       "2  d8563c79-fcc0-4cdc-8d80-c871836da85c   33  entrepreneur  married   \n",
       "3  43ebc39f-9a3d-41b5-a97d-4e168610ffd6   47   blue-collar  married   \n",
       "4  e6c300d4-35b9-4dc1-acb8-120959389cf0   33           NaN   single   \n",
       "\n",
       "   education default  balance housing loan contact  day_of_week month  \\\n",
       "0   tertiary      no     2143     yes   no     NaN            5   may   \n",
       "1  secondary      no       29     yes   no     NaN            5   may   \n",
       "2  secondary      no        2     yes  yes     NaN            5   may   \n",
       "3        NaN      no     1506     yes   no     NaN            5   may   \n",
       "4        NaN      no        1      no   no     NaN            5   may   \n",
       "\n",
       "   duration  campaign  pdays  previous poutcome   y  \n",
       "0       261         1     -1         0      NaN  no  \n",
       "1       151         1     -1         0      NaN  no  \n",
       "2        76         1     -1         0      NaN  no  \n",
       "3        92         1     -1         0      NaN  no  \n",
       "4       198         1     -1         0      NaN  no  "
      ]
     },
     "execution_count": 20,
     "metadata": {},
     "output_type": "execute_result"
    }
   ],
   "source": [
    "dataset.head()"
   ]
  },
  {
   "cell_type": "code",
   "execution_count": 18,
   "metadata": {},
   "outputs": [
    {
     "data": {
      "text/plain": [
       "age             int64\n",
       "job            object\n",
       "marital        object\n",
       "education      object\n",
       "default        object\n",
       "balance         int64\n",
       "housing        object\n",
       "loan           object\n",
       "contact        object\n",
       "day_of_week     int64\n",
       "month          object\n",
       "duration        int64\n",
       "campaign        int64\n",
       "pdays           int64\n",
       "previous        int64\n",
       "poutcome       object\n",
       "y              object\n",
       "dtype: object"
      ]
     },
     "execution_count": 18,
     "metadata": {},
     "output_type": "execute_result"
    }
   ],
   "source": [
    "# What kind of data do we have?\n",
    "dataset.dtypes"
   ]
  },
  {
   "cell_type": "code",
   "execution_count": 21,
   "metadata": {},
   "outputs": [],
   "source": [
    "# Fill nans in categorical features with 'unknown' value\n",
    "dataset.fillna('unknown', inplace=True)"
   ]
  },
  {
   "cell_type": "markdown",
   "metadata": {},
   "source": [
    "## Check for distributions in data"
   ]
  },
  {
   "cell_type": "code",
   "execution_count": 5,
   "metadata": {
    "scrolled": true
   },
   "outputs": [
    {
     "data": {
      "image/png": "[encoded data removed]",
      "text/plain": [
       "<Figure size 432x288 with 1 Axes>"
      ]
     },
     "metadata": {
      "needs_background": "light"
     },
     "output_type": "display_data"
    },
    {
     "data": {
      "image/png": "[encoded data removed]",
      "text/plain": [
       "<Figure size 432x288 with 1 Axes>"
      ]
     },
     "metadata": {
      "needs_background": "light"
     },
     "output_type": "display_data"
    },
    {
     "data": {
      "image/png": "[encoded data removed]",
      "text/plain": [
       "<Figure size 432x288 with 1 Axes>"
      ]
     },
     "metadata": {
      "needs_background": "light"
     },
     "output_type": "display_data"
    },
    {
     "data": {
      "image/png": "[encoded data removed]",
      "text/plain": [
       "<Figure size 432x288 with 1 Axes>"
      ]
     },
     "metadata": {
      "needs_background": "light"
     },
     "output_type": "display_data"
    },
    {
     "data": {
      "image/png": "[encoded data removed]",
      "text/plain": [
       "<Figure size 432x288 with 1 Axes>"
      ]
     },
     "metadata": {
      "needs_background": "light"
     },
     "output_type": "display_data"
    },
    {
     "data": {
      "image/png": "[encoded data removed]",
      "text/plain": [
       "<Figure size 432x288 with 1 Axes>"
      ]
     },
     "metadata": {
      "needs_background": "light"
     },
     "output_type": "display_data"
    },
    {
     "data": {
      "image/png": "[encoded data removed]",
      "text/plain": [
       "<Figure size 432x288 with 1 Axes>"
      ]
     },
     "metadata": {
      "needs_background": "light"
     },
     "output_type": "display_data"
    },
    {
     "data": {
      "image/png": "[encoded data removed]",
      "text/plain": [
       "<Figure size 432x288 with 1 Axes>"
      ]
     },
     "metadata": {
      "needs_background": "light"
     },
     "output_type": "display_data"
    },
    {
     "data": {
      "image/png": "[encoded data removed]",
      "text/plain": [
       "<Figure size 432x288 with 1 Axes>"
      ]
     },
     "metadata": {
      "needs_background": "light"
     },
     "output_type": "display_data"
    },
    {
     "data": {
      "image/png": "[encoded data removed]",
      "text/plain": [
       "<Figure size 432x288 with 1 Axes>"
      ]
     },
     "metadata": {
      "needs_background": "light"
     },
     "output_type": "display_data"
    },
    {
     "data": {
      "image/png": "[encoded data removed]",
      "text/plain": [
       "<Figure size 432x288 with 1 Axes>"
      ]
     },
     "metadata": {
      "needs_background": "light"
     },
     "output_type": "display_data"
    },
    {
     "data": {
      "image/png": "[encoded data removed]",
      "text/plain": [
       "<Figure size 432x288 with 1 Axes>"
      ]
     },
     "metadata": {
      "needs_background": "light"
     },
     "output_type": "display_data"
    },
    {
     "data": {
      "image/png": "[encoded data removed]",
      "text/plain": [
       "<Figure size 432x288 with 1 Axes>"
      ]
     },
     "metadata": {
      "needs_background": "light"
     },
     "output_type": "display_data"
    },
    {
     "data": {
      "image/png": "[encoded data removed]",
      "text/plain": [
       "<Figure size 432x288 with 1 Axes>"
      ]
     },
     "metadata": {
      "needs_background": "light"
     },
     "output_type": "display_data"
    },
    {
     "data": {
      "image/png": "[encoded data removed]",
      "text/plain": [
       "<Figure size 432x288 with 1 Axes>"
      ]
     },
     "metadata": {
      "needs_background": "light"
     },
     "output_type": "display_data"
    },
    {
     "data": {
      "image/png": "[encoded data removed]",
      "text/plain": [
       "<Figure size 432x288 with 1 Axes>"
      ]
     },
     "metadata": {
      "needs_background": "light"
     },
     "output_type": "display_data"
    },
    {
     "data": {
      "image/png": "[encoded data removed]",
      "text/plain": [
       "<Figure size 432x288 with 1 Axes>"
      ]
     },
     "metadata": {
      "needs_background": "light"
     },
     "output_type": "display_data"
    }
   ],
   "source": [
    "# Distributions\n",
    "for f_ in dataset.columns:\n",
    "    if dataset[f_].dtype == \"object\":\n",
    "        plt.figure()\n",
    "        dataset[f_].value_counts(normalize=True, dropna=False).plot(kind=\"barh\", title=f_)\n",
    "    else:\n",
    "        plt.figure()\n",
    "        dataset[f_].plot(kind=\"hist\", bins=10, title=f_)"
   ]
  },
  {
   "cell_type": "code",
   "execution_count": 6,
   "metadata": {},
   "outputs": [
    {
     "data": {
      "text/plain": [
       "y\n",
       "no     0.883015\n",
       "yes    0.116985\n",
       "Name: proportion, dtype: float64"
      ]
     },
     "execution_count": 6,
     "metadata": {},
     "output_type": "execute_result"
    }
   ],
   "source": [
    "# Unbalanced data set?\n",
    "dataset[\"y\"].value_counts(normalize=True)"
   ]
  },
  {
   "cell_type": "code",
   "execution_count": 22,
   "metadata": {},
   "outputs": [],
   "source": [
    "# Transform target feature into numerical one\n",
    "dataset['y'] = dataset['y'].map({\"yes\":1, \"no\":0})"
   ]
  },
  {
   "cell_type": "code",
   "execution_count": 8,
   "metadata": {},
   "outputs": [
    {
     "data": {
      "text/html": [
       "<div>\n",
       "<style scoped>\n",
       "    .dataframe tbody tr th:only-of-type {\n",
       "        vertical-align: middle;\n",
       "    }\n",
       "\n",
       "    .dataframe tbody tr th {\n",
       "        vertical-align: top;\n",
       "    }\n",
       "\n",
       "    .dataframe thead th {\n",
       "        text-align: right;\n",
       "    }\n",
       "</style>\n",
       "<table border=\"1\" class=\"dataframe\">\n",
       "  <thead>\n",
       "    <tr style=\"text-align: right;\">\n",
       "      <th></th>\n",
       "      <th>count</th>\n",
       "      <th>mean</th>\n",
       "      <th>std</th>\n",
       "      <th>min</th>\n",
       "      <th>25%</th>\n",
       "      <th>50%</th>\n",
       "      <th>75%</th>\n",
       "      <th>max</th>\n",
       "    </tr>\n",
       "  </thead>\n",
       "  <tbody>\n",
       "    <tr>\n",
       "      <th>age</th>\n",
       "      <td>45211.0</td>\n",
       "      <td>40.936210</td>\n",
       "      <td>10.618762</td>\n",
       "      <td>18.0</td>\n",
       "      <td>33.0</td>\n",
       "      <td>39.0</td>\n",
       "      <td>48.0</td>\n",
       "      <td>95.0</td>\n",
       "    </tr>\n",
       "    <tr>\n",
       "      <th>balance</th>\n",
       "      <td>45211.0</td>\n",
       "      <td>1362.272058</td>\n",
       "      <td>3044.765829</td>\n",
       "      <td>-8019.0</td>\n",
       "      <td>72.0</td>\n",
       "      <td>448.0</td>\n",
       "      <td>1428.0</td>\n",
       "      <td>102127.0</td>\n",
       "    </tr>\n",
       "    <tr>\n",
       "      <th>day_of_week</th>\n",
       "      <td>45211.0</td>\n",
       "      <td>15.806419</td>\n",
       "      <td>8.322476</td>\n",
       "      <td>1.0</td>\n",
       "      <td>8.0</td>\n",
       "      <td>16.0</td>\n",
       "      <td>21.0</td>\n",
       "      <td>31.0</td>\n",
       "    </tr>\n",
       "    <tr>\n",
       "      <th>duration</th>\n",
       "      <td>45211.0</td>\n",
       "      <td>258.163080</td>\n",
       "      <td>257.527812</td>\n",
       "      <td>0.0</td>\n",
       "      <td>103.0</td>\n",
       "      <td>180.0</td>\n",
       "      <td>319.0</td>\n",
       "      <td>4918.0</td>\n",
       "    </tr>\n",
       "    <tr>\n",
       "      <th>campaign</th>\n",
       "      <td>45211.0</td>\n",
       "      <td>2.763841</td>\n",
       "      <td>3.098021</td>\n",
       "      <td>1.0</td>\n",
       "      <td>1.0</td>\n",
       "      <td>2.0</td>\n",
       "      <td>3.0</td>\n",
       "      <td>63.0</td>\n",
       "    </tr>\n",
       "    <tr>\n",
       "      <th>pdays</th>\n",
       "      <td>45211.0</td>\n",
       "      <td>40.197828</td>\n",
       "      <td>100.128746</td>\n",
       "      <td>-1.0</td>\n",
       "      <td>-1.0</td>\n",
       "      <td>-1.0</td>\n",
       "      <td>-1.0</td>\n",
       "      <td>871.0</td>\n",
       "    </tr>\n",
       "    <tr>\n",
       "      <th>previous</th>\n",
       "      <td>45211.0</td>\n",
       "      <td>0.580323</td>\n",
       "      <td>2.303441</td>\n",
       "      <td>0.0</td>\n",
       "      <td>0.0</td>\n",
       "      <td>0.0</td>\n",
       "      <td>0.0</td>\n",
       "      <td>275.0</td>\n",
       "    </tr>\n",
       "    <tr>\n",
       "      <th>y</th>\n",
       "      <td>45211.0</td>\n",
       "      <td>0.116985</td>\n",
       "      <td>0.321406</td>\n",
       "      <td>0.0</td>\n",
       "      <td>0.0</td>\n",
       "      <td>0.0</td>\n",
       "      <td>0.0</td>\n",
       "      <td>1.0</td>\n",
       "    </tr>\n",
       "  </tbody>\n",
       "</table>\n",
       "</div>"
      ],
      "text/plain": [
       "               count         mean          std     min    25%    50%     75%  \\\n",
       "age          45211.0    40.936210    10.618762    18.0   33.0   39.0    48.0   \n",
       "balance      45211.0  1362.272058  3044.765829 -8019.0   72.0  448.0  1428.0   \n",
       "day_of_week  45211.0    15.806419     8.322476     1.0    8.0   16.0    21.0   \n",
       "duration     45211.0   258.163080   257.527812     0.0  103.0  180.0   319.0   \n",
       "campaign     45211.0     2.763841     3.098021     1.0    1.0    2.0     3.0   \n",
       "pdays        45211.0    40.197828   100.128746    -1.0   -1.0   -1.0    -1.0   \n",
       "previous     45211.0     0.580323     2.303441     0.0    0.0    0.0     0.0   \n",
       "y            45211.0     0.116985     0.321406     0.0    0.0    0.0     0.0   \n",
       "\n",
       "                  max  \n",
       "age              95.0  \n",
       "balance      102127.0  \n",
       "day_of_week      31.0  \n",
       "duration       4918.0  \n",
       "campaign         63.0  \n",
       "pdays           871.0  \n",
       "previous        275.0  \n",
       "y                 1.0  "
      ]
     },
     "execution_count": 8,
     "metadata": {},
     "output_type": "execute_result"
    }
   ],
   "source": [
    "dataset.describe().T"
   ]
  },
  {
   "cell_type": "code",
   "execution_count": null,
   "metadata": {},
   "outputs": [],
   "source": []
  },
  {
   "cell_type": "markdown",
   "metadata": {},
   "source": [
    "## Train test split"
   ]
  },
  {
   "cell_type": "code",
   "execution_count": 23,
   "metadata": {},
   "outputs": [],
   "source": [
    "MAIN_ID = \"id\"\n",
    "\n",
    "NUMERICAL_FEATURES = [\n",
    "    'age',\n",
    "    'balance',\n",
    "    'duration',\n",
    "    'campaign',\n",
    "    'pdays',\n",
    "    'previous'\n",
    "    ]\n",
    "\n",
    "CATEGORICAL_FEATURES = [\n",
    "    'job',\n",
    "    'marital',\n",
    "    'education',\n",
    "    'default',\n",
    "    'housing',\n",
    "    'loan',\n",
    "    'contact',\n",
    "    'day_of_week',\n",
    "    'month',\n",
    "    'poutcome'\n",
    "]\n",
    "\n",
    "TARGET_FEATURE = 'y'"
   ]
  },
  {
   "cell_type": "code",
   "execution_count": 24,
   "metadata": {},
   "outputs": [],
   "source": [
    "train_df, test_df = train_test_split(dataset, test_size=0.2)"
   ]
  },
  {
   "cell_type": "code",
   "execution_count": 25,
   "metadata": {},
   "outputs": [
    {
     "data": {
      "text/plain": [
       "((36168, 18), (9043, 18))"
      ]
     },
     "execution_count": 25,
     "metadata": {},
     "output_type": "execute_result"
    }
   ],
   "source": [
    "train_df.shape, test_df.shape"
   ]
  },
  {
   "cell_type": "code",
   "execution_count": 26,
   "metadata": {},
   "outputs": [
    {
     "data": {
      "text/plain": [
       "y\n",
       "0    0.884622\n",
       "1    0.115378\n",
       "Name: proportion, dtype: float64"
      ]
     },
     "execution_count": 26,
     "metadata": {},
     "output_type": "execute_result"
    }
   ],
   "source": [
    "# Proportion in training set\n",
    "train_df[TARGET_FEATURE].value_counts(normalize=True)"
   ]
  },
  {
   "cell_type": "code",
   "execution_count": 27,
   "metadata": {},
   "outputs": [
    {
     "data": {
      "text/plain": [
       "y\n",
       "0    0.87659\n",
       "1    0.12341\n",
       "Name: proportion, dtype: float64"
      ]
     },
     "execution_count": 27,
     "metadata": {},
     "output_type": "execute_result"
    }
   ],
   "source": [
    "# Proportion in test set\n",
    "test_df[TARGET_FEATURE].value_counts(normalize=True)"
   ]
  },
  {
   "cell_type": "code",
   "execution_count": null,
   "metadata": {},
   "outputs": [],
   "source": []
  },
  {
   "cell_type": "code",
   "execution_count": null,
   "metadata": {},
   "outputs": [],
   "source": []
  },
  {
   "cell_type": "code",
   "execution_count": 14,
   "metadata": {},
   "outputs": [],
   "source": [
    "class TargetEncodingTransformer(BaseEstimator, TransformerMixin):\n",
    "    ### Uses mean of categories to encode feature the lowest the highest presence of positive category\n",
    "    ### It deals with unknown categories using the maximum encoding + 1\n",
    "    \n",
    "    def __init__(self, categorical_features, target_feature):\n",
    "        self.categorical_features = categorical_features\n",
    "        self.target_feature = target_feature\n",
    "\n",
    "    def fit(self, X, y=None):\n",
    "        X_copy = X.copy()\n",
    "        \n",
    "        cat_dict = {}\n",
    "        for cat_ in self.categorical_features:\n",
    "            temp_dict = {val_:ii for ii, val_ in enumerate(X_copy.groupby(cat_)[self.target_feature].mean().sort_values(ascending=False).index)} \n",
    "\n",
    "            cat_dict[cat_] = temp_dict\n",
    "        self.cat_dict = cat_dict\n",
    "        return self\n",
    "    \n",
    "    def transform(self, X):\n",
    "        X_copy = X.copy()\n",
    "        for cat_, dict_ in self.cat_dict.items():\n",
    "            X_copy[f\"{cat_}_tenc\"] = X_copy[cat_].map(dict_)\n",
    "            ### Fill missing categories with maximum values + 1\n",
    "            X_copy[f\"{cat_}_tenc\"] = X_copy[f\"{cat_}_tenc\"].fillna(max(dict_.values())+1)\n",
    "        return X_copy\n"
   ]
  },
  {
   "cell_type": "code",
   "execution_count": 15,
   "metadata": {},
   "outputs": [],
   "source": [
    "tenc_transformer = TargetEncodingTransformer(categorical_features=CATEGORICAL_FEATURES, target_feature=TARGET_FEATURE)\n"
   ]
  },
  {
   "cell_type": "code",
   "execution_count": 16,
   "metadata": {},
   "outputs": [
    {
     "data": {
      "text/html": [
       "<style>#sk-container-id-1 {color: black;background-color: white;}#sk-container-id-1 pre{padding: 0;}#sk-container-id-1 div.sk-toggleable {background-color: white;}#sk-container-id-1 label.sk-toggleable__label {cursor: pointer;display: block;width: 100%;margin-bottom: 0;padding: 0.3em;box-sizing: border-box;text-align: center;}#sk-container-id-1 label.sk-toggleable__label-arrow:before {content: \"▸\";float: left;margin-right: 0.25em;color: #696969;}#sk-container-id-1 label.sk-toggleable__label-arrow:hover:before {color: black;}#sk-container-id-1 div.sk-estimator:hover label.sk-toggleable__label-arrow:before {color: black;}#sk-container-id-1 div.sk-toggleable__content {max-height: 0;max-width: 0;overflow: hidden;text-align: left;background-color: #f0f8ff;}#sk-container-id-1 div.sk-toggleable__content pre {margin: 0.2em;color: black;border-radius: 0.25em;background-color: #f0f8ff;}#sk-container-id-1 input.sk-toggleable__control:checked~div.sk-toggleable__content {max-height: 200px;max-width: 100%;overflow: auto;}#sk-container-id-1 input.sk-toggleable__control:checked~label.sk-toggleable__label-arrow:before {content: \"▾\";}#sk-container-id-1 div.sk-estimator input.sk-toggleable__control:checked~label.sk-toggleable__label {background-color: #d4ebff;}#sk-container-id-1 div.sk-label input.sk-toggleable__control:checked~label.sk-toggleable__label {background-color: #d4ebff;}#sk-container-id-1 input.sk-hidden--visually {border: 0;clip: rect(1px 1px 1px 1px);clip: rect(1px, 1px, 1px, 1px);height: 1px;margin: -1px;overflow: hidden;padding: 0;position: absolute;width: 1px;}#sk-container-id-1 div.sk-estimator {font-family: monospace;background-color: #f0f8ff;border: 1px dotted black;border-radius: 0.25em;box-sizing: border-box;margin-bottom: 0.5em;}#sk-container-id-1 div.sk-estimator:hover {background-color: #d4ebff;}#sk-container-id-1 div.sk-parallel-item::after {content: \"\";width: 100%;border-bottom: 1px solid gray;flex-grow: 1;}#sk-container-id-1 div.sk-label:hover label.sk-toggleable__label {background-color: #d4ebff;}#sk-container-id-1 div.sk-serial::before {content: \"\";position: absolute;border-left: 1px solid gray;box-sizing: border-box;top: 0;bottom: 0;left: 50%;z-index: 0;}#sk-container-id-1 div.sk-serial {display: flex;flex-direction: column;align-items: center;background-color: white;padding-right: 0.2em;padding-left: 0.2em;position: relative;}#sk-container-id-1 div.sk-item {position: relative;z-index: 1;}#sk-container-id-1 div.sk-parallel {display: flex;align-items: stretch;justify-content: center;background-color: white;position: relative;}#sk-container-id-1 div.sk-item::before, #sk-container-id-1 div.sk-parallel-item::before {content: \"\";position: absolute;border-left: 1px solid gray;box-sizing: border-box;top: 0;bottom: 0;left: 50%;z-index: -1;}#sk-container-id-1 div.sk-parallel-item {display: flex;flex-direction: column;z-index: 1;position: relative;background-color: white;}#sk-container-id-1 div.sk-parallel-item:first-child::after {align-self: flex-end;width: 50%;}#sk-container-id-1 div.sk-parallel-item:last-child::after {align-self: flex-start;width: 50%;}#sk-container-id-1 div.sk-parallel-item:only-child::after {width: 0;}#sk-container-id-1 div.sk-dashed-wrapped {border: 1px dashed gray;margin: 0 0.4em 0.5em 0.4em;box-sizing: border-box;padding-bottom: 0.4em;background-color: white;}#sk-container-id-1 div.sk-label label {font-family: monospace;font-weight: bold;display: inline-block;line-height: 1.2em;}#sk-container-id-1 div.sk-label-container {text-align: center;}#sk-container-id-1 div.sk-container {/* jupyter's `normalize.less` sets `[hidden] { display: none; }` but bootstrap.min.css set `[hidden] { display: none !important; }` so we also need the `!important` here to be able to override the default hidden behavior on the sphinx rendered scikit-learn.org. See: https://github.com/scikit-learn/scikit-learn/issues/21755 */display: inline-block !important;position: relative;}#sk-container-id-1 div.sk-text-repr-fallback {display: none;}</style><div id=\"sk-container-id-1\" class=\"sk-top-container\"><div class=\"sk-text-repr-fallback\"><pre>TargetEncodingTransformer(categorical_features=[&#x27;job&#x27;, &#x27;marital&#x27;, &#x27;education&#x27;,\n",
       "                                                &#x27;default&#x27;, &#x27;housing&#x27;, &#x27;loan&#x27;,\n",
       "                                                &#x27;contact&#x27;, &#x27;day_of_week&#x27;,\n",
       "                                                &#x27;month&#x27;, &#x27;poutcome&#x27;],\n",
       "                          target_feature=&#x27;y&#x27;)</pre><b>In a Jupyter environment, please rerun this cell to show the HTML representation or trust the notebook. <br />On GitHub, the HTML representation is unable to render, please try loading this page with nbviewer.org.</b></div><div class=\"sk-container\" hidden><div class=\"sk-item\"><div class=\"sk-estimator sk-toggleable\"><input class=\"sk-toggleable__control sk-hidden--visually\" id=\"sk-estimator-id-1\" type=\"checkbox\" checked><label for=\"sk-estimator-id-1\" class=\"sk-toggleable__label sk-toggleable__label-arrow\">TargetEncodingTransformer</label><div class=\"sk-toggleable__content\"><pre>TargetEncodingTransformer(categorical_features=[&#x27;job&#x27;, &#x27;marital&#x27;, &#x27;education&#x27;,\n",
       "                                                &#x27;default&#x27;, &#x27;housing&#x27;, &#x27;loan&#x27;,\n",
       "                                                &#x27;contact&#x27;, &#x27;day_of_week&#x27;,\n",
       "                                                &#x27;month&#x27;, &#x27;poutcome&#x27;],\n",
       "                          target_feature=&#x27;y&#x27;)</pre></div></div></div></div></div>"
      ],
      "text/plain": [
       "TargetEncodingTransformer(categorical_features=['job', 'marital', 'education',\n",
       "                                                'default', 'housing', 'loan',\n",
       "                                                'contact', 'day_of_week',\n",
       "                                                'month', 'poutcome'],\n",
       "                          target_feature='y')"
      ]
     },
     "execution_count": 16,
     "metadata": {},
     "output_type": "execute_result"
    }
   ],
   "source": [
    "tenc_transformer.fit(train_df)"
   ]
  },
  {
   "cell_type": "code",
   "execution_count": 17,
   "metadata": {},
   "outputs": [
    {
     "data": {
      "text/html": [
       "<div>\n",
       "<style scoped>\n",
       "    .dataframe tbody tr th:only-of-type {\n",
       "        vertical-align: middle;\n",
       "    }\n",
       "\n",
       "    .dataframe tbody tr th {\n",
       "        vertical-align: top;\n",
       "    }\n",
       "\n",
       "    .dataframe thead th {\n",
       "        text-align: right;\n",
       "    }\n",
       "</style>\n",
       "<table border=\"1\" class=\"dataframe\">\n",
       "  <thead>\n",
       "    <tr style=\"text-align: right;\">\n",
       "      <th></th>\n",
       "      <th>age</th>\n",
       "      <th>job</th>\n",
       "      <th>marital</th>\n",
       "      <th>education</th>\n",
       "      <th>default</th>\n",
       "      <th>balance</th>\n",
       "      <th>housing</th>\n",
       "      <th>loan</th>\n",
       "      <th>contact</th>\n",
       "      <th>day_of_week</th>\n",
       "      <th>...</th>\n",
       "      <th>job_tenc</th>\n",
       "      <th>marital_tenc</th>\n",
       "      <th>education_tenc</th>\n",
       "      <th>default_tenc</th>\n",
       "      <th>housing_tenc</th>\n",
       "      <th>loan_tenc</th>\n",
       "      <th>contact_tenc</th>\n",
       "      <th>day_of_week_tenc</th>\n",
       "      <th>month_tenc</th>\n",
       "      <th>poutcome_tenc</th>\n",
       "    </tr>\n",
       "  </thead>\n",
       "  <tbody>\n",
       "    <tr>\n",
       "      <th>556</th>\n",
       "      <td>39</td>\n",
       "      <td>services</td>\n",
       "      <td>divorced</td>\n",
       "      <td>primary</td>\n",
       "      <td>no</td>\n",
       "      <td>471</td>\n",
       "      <td>yes</td>\n",
       "      <td>no</td>\n",
       "      <td>unknown</td>\n",
       "      <td>6</td>\n",
       "      <td>...</td>\n",
       "      <td>8</td>\n",
       "      <td>1</td>\n",
       "      <td>3</td>\n",
       "      <td>0</td>\n",
       "      <td>1</td>\n",
       "      <td>0</td>\n",
       "      <td>2</td>\n",
       "      <td>22</td>\n",
       "      <td>11</td>\n",
       "      <td>3</td>\n",
       "    </tr>\n",
       "    <tr>\n",
       "      <th>213</th>\n",
       "      <td>36</td>\n",
       "      <td>services</td>\n",
       "      <td>married</td>\n",
       "      <td>secondary</td>\n",
       "      <td>no</td>\n",
       "      <td>301</td>\n",
       "      <td>yes</td>\n",
       "      <td>no</td>\n",
       "      <td>unknown</td>\n",
       "      <td>5</td>\n",
       "      <td>...</td>\n",
       "      <td>8</td>\n",
       "      <td>2</td>\n",
       "      <td>2</td>\n",
       "      <td>0</td>\n",
       "      <td>1</td>\n",
       "      <td>0</td>\n",
       "      <td>2</td>\n",
       "      <td>20</td>\n",
       "      <td>11</td>\n",
       "      <td>3</td>\n",
       "    </tr>\n",
       "    <tr>\n",
       "      <th>715</th>\n",
       "      <td>41</td>\n",
       "      <td>admin.</td>\n",
       "      <td>divorced</td>\n",
       "      <td>secondary</td>\n",
       "      <td>no</td>\n",
       "      <td>322</td>\n",
       "      <td>yes</td>\n",
       "      <td>no</td>\n",
       "      <td>unknown</td>\n",
       "      <td>6</td>\n",
       "      <td>...</td>\n",
       "      <td>5</td>\n",
       "      <td>1</td>\n",
       "      <td>2</td>\n",
       "      <td>0</td>\n",
       "      <td>1</td>\n",
       "      <td>0</td>\n",
       "      <td>2</td>\n",
       "      <td>22</td>\n",
       "      <td>11</td>\n",
       "      <td>3</td>\n",
       "    </tr>\n",
       "    <tr>\n",
       "      <th>19925</th>\n",
       "      <td>55</td>\n",
       "      <td>blue-collar</td>\n",
       "      <td>married</td>\n",
       "      <td>primary</td>\n",
       "      <td>no</td>\n",
       "      <td>9997</td>\n",
       "      <td>no</td>\n",
       "      <td>no</td>\n",
       "      <td>cellular</td>\n",
       "      <td>8</td>\n",
       "      <td>...</td>\n",
       "      <td>11</td>\n",
       "      <td>2</td>\n",
       "      <td>3</td>\n",
       "      <td>0</td>\n",
       "      <td>0</td>\n",
       "      <td>0</td>\n",
       "      <td>0</td>\n",
       "      <td>19</td>\n",
       "      <td>6</td>\n",
       "      <td>3</td>\n",
       "    </tr>\n",
       "    <tr>\n",
       "      <th>37428</th>\n",
       "      <td>37</td>\n",
       "      <td>services</td>\n",
       "      <td>married</td>\n",
       "      <td>secondary</td>\n",
       "      <td>no</td>\n",
       "      <td>1328</td>\n",
       "      <td>yes</td>\n",
       "      <td>no</td>\n",
       "      <td>telephone</td>\n",
       "      <td>13</td>\n",
       "      <td>...</td>\n",
       "      <td>8</td>\n",
       "      <td>2</td>\n",
       "      <td>2</td>\n",
       "      <td>0</td>\n",
       "      <td>1</td>\n",
       "      <td>0</td>\n",
       "      <td>1</td>\n",
       "      <td>8</td>\n",
       "      <td>11</td>\n",
       "      <td>2</td>\n",
       "    </tr>\n",
       "    <tr>\n",
       "      <th>...</th>\n",
       "      <td>...</td>\n",
       "      <td>...</td>\n",
       "      <td>...</td>\n",
       "      <td>...</td>\n",
       "      <td>...</td>\n",
       "      <td>...</td>\n",
       "      <td>...</td>\n",
       "      <td>...</td>\n",
       "      <td>...</td>\n",
       "      <td>...</td>\n",
       "      <td>...</td>\n",
       "      <td>...</td>\n",
       "      <td>...</td>\n",
       "      <td>...</td>\n",
       "      <td>...</td>\n",
       "      <td>...</td>\n",
       "      <td>...</td>\n",
       "      <td>...</td>\n",
       "      <td>...</td>\n",
       "      <td>...</td>\n",
       "      <td>...</td>\n",
       "    </tr>\n",
       "    <tr>\n",
       "      <th>35596</th>\n",
       "      <td>51</td>\n",
       "      <td>blue-collar</td>\n",
       "      <td>married</td>\n",
       "      <td>unknown</td>\n",
       "      <td>no</td>\n",
       "      <td>0</td>\n",
       "      <td>yes</td>\n",
       "      <td>no</td>\n",
       "      <td>telephone</td>\n",
       "      <td>7</td>\n",
       "      <td>...</td>\n",
       "      <td>11</td>\n",
       "      <td>2</td>\n",
       "      <td>1</td>\n",
       "      <td>0</td>\n",
       "      <td>1</td>\n",
       "      <td>0</td>\n",
       "      <td>1</td>\n",
       "      <td>25</td>\n",
       "      <td>11</td>\n",
       "      <td>3</td>\n",
       "    </tr>\n",
       "    <tr>\n",
       "      <th>22927</th>\n",
       "      <td>54</td>\n",
       "      <td>blue-collar</td>\n",
       "      <td>married</td>\n",
       "      <td>primary</td>\n",
       "      <td>no</td>\n",
       "      <td>7073</td>\n",
       "      <td>no</td>\n",
       "      <td>no</td>\n",
       "      <td>cellular</td>\n",
       "      <td>26</td>\n",
       "      <td>...</td>\n",
       "      <td>11</td>\n",
       "      <td>2</td>\n",
       "      <td>3</td>\n",
       "      <td>0</td>\n",
       "      <td>0</td>\n",
       "      <td>0</td>\n",
       "      <td>0</td>\n",
       "      <td>16</td>\n",
       "      <td>6</td>\n",
       "      <td>3</td>\n",
       "    </tr>\n",
       "    <tr>\n",
       "      <th>29714</th>\n",
       "      <td>30</td>\n",
       "      <td>management</td>\n",
       "      <td>single</td>\n",
       "      <td>tertiary</td>\n",
       "      <td>no</td>\n",
       "      <td>179</td>\n",
       "      <td>no</td>\n",
       "      <td>no</td>\n",
       "      <td>cellular</td>\n",
       "      <td>3</td>\n",
       "      <td>...</td>\n",
       "      <td>4</td>\n",
       "      <td>0</td>\n",
       "      <td>0</td>\n",
       "      <td>0</td>\n",
       "      <td>0</td>\n",
       "      <td>0</td>\n",
       "      <td>0</td>\n",
       "      <td>4</td>\n",
       "      <td>5</td>\n",
       "      <td>3</td>\n",
       "    </tr>\n",
       "    <tr>\n",
       "      <th>8367</th>\n",
       "      <td>28</td>\n",
       "      <td>services</td>\n",
       "      <td>married</td>\n",
       "      <td>secondary</td>\n",
       "      <td>no</td>\n",
       "      <td>468</td>\n",
       "      <td>yes</td>\n",
       "      <td>yes</td>\n",
       "      <td>unknown</td>\n",
       "      <td>3</td>\n",
       "      <td>...</td>\n",
       "      <td>8</td>\n",
       "      <td>2</td>\n",
       "      <td>2</td>\n",
       "      <td>0</td>\n",
       "      <td>1</td>\n",
       "      <td>1</td>\n",
       "      <td>2</td>\n",
       "      <td>4</td>\n",
       "      <td>9</td>\n",
       "      <td>3</td>\n",
       "    </tr>\n",
       "    <tr>\n",
       "      <th>21670</th>\n",
       "      <td>30</td>\n",
       "      <td>technician</td>\n",
       "      <td>single</td>\n",
       "      <td>secondary</td>\n",
       "      <td>no</td>\n",
       "      <td>5</td>\n",
       "      <td>no</td>\n",
       "      <td>no</td>\n",
       "      <td>cellular</td>\n",
       "      <td>19</td>\n",
       "      <td>...</td>\n",
       "      <td>7</td>\n",
       "      <td>0</td>\n",
       "      <td>2</td>\n",
       "      <td>0</td>\n",
       "      <td>0</td>\n",
       "      <td>0</td>\n",
       "      <td>0</td>\n",
       "      <td>30</td>\n",
       "      <td>6</td>\n",
       "      <td>3</td>\n",
       "    </tr>\n",
       "  </tbody>\n",
       "</table>\n",
       "<p>9043 rows × 27 columns</p>\n",
       "</div>"
      ],
      "text/plain": [
       "       age          job   marital  education default  balance housing loan  \\\n",
       "556     39     services  divorced    primary      no      471     yes   no   \n",
       "213     36     services   married  secondary      no      301     yes   no   \n",
       "715     41       admin.  divorced  secondary      no      322     yes   no   \n",
       "19925   55  blue-collar   married    primary      no     9997      no   no   \n",
       "37428   37     services   married  secondary      no     1328     yes   no   \n",
       "...    ...          ...       ...        ...     ...      ...     ...  ...   \n",
       "35596   51  blue-collar   married    unknown      no        0     yes   no   \n",
       "22927   54  blue-collar   married    primary      no     7073      no   no   \n",
       "29714   30   management    single   tertiary      no      179      no   no   \n",
       "8367    28     services   married  secondary      no      468     yes  yes   \n",
       "21670   30   technician    single  secondary      no        5      no   no   \n",
       "\n",
       "         contact  day_of_week  ... job_tenc  marital_tenc  education_tenc  \\\n",
       "556      unknown            6  ...        8             1               3   \n",
       "213      unknown            5  ...        8             2               2   \n",
       "715      unknown            6  ...        5             1               2   \n",
       "19925   cellular            8  ...       11             2               3   \n",
       "37428  telephone           13  ...        8             2               2   \n",
       "...          ...          ...  ...      ...           ...             ...   \n",
       "35596  telephone            7  ...       11             2               1   \n",
       "22927   cellular           26  ...       11             2               3   \n",
       "29714   cellular            3  ...        4             0               0   \n",
       "8367     unknown            3  ...        8             2               2   \n",
       "21670   cellular           19  ...        7             0               2   \n",
       "\n",
       "       default_tenc  housing_tenc loan_tenc  contact_tenc  day_of_week_tenc  \\\n",
       "556               0             1         0             2                22   \n",
       "213               0             1         0             2                20   \n",
       "715               0             1         0             2                22   \n",
       "19925             0             0         0             0                19   \n",
       "37428             0             1         0             1                 8   \n",
       "...             ...           ...       ...           ...               ...   \n",
       "35596             0             1         0             1                25   \n",
       "22927             0             0         0             0                16   \n",
       "29714             0             0         0             0                 4   \n",
       "8367              0             1         1             2                 4   \n",
       "21670             0             0         0             0                30   \n",
       "\n",
       "       month_tenc  poutcome_tenc  \n",
       "556            11              3  \n",
       "213            11              3  \n",
       "715            11              3  \n",
       "19925           6              3  \n",
       "37428          11              2  \n",
       "...           ...            ...  \n",
       "35596          11              3  \n",
       "22927           6              3  \n",
       "29714           5              3  \n",
       "8367            9              3  \n",
       "21670           6              3  \n",
       "\n",
       "[9043 rows x 27 columns]"
      ]
     },
     "execution_count": 17,
     "metadata": {},
     "output_type": "execute_result"
    }
   ],
   "source": [
    "tenc_transformer.transform(test_df)"
   ]
  },
  {
   "cell_type": "code",
   "execution_count": null,
   "metadata": {},
   "outputs": [],
   "source": []
  },
  {
   "cell_type": "code",
   "execution_count": 18,
   "metadata": {},
   "outputs": [],
   "source": [
    "class OneHotEncoderTransformer(BaseEstimator, TransformerMixin):\n",
    "    def __init__(self, categorical_features):\n",
    "        self.categorical_features = categorical_features\n",
    "        self.encoder = OneHotEncoder(sparse=False, handle_unknown='ignore')\n",
    "\n",
    "    def fit(self, X, y=None):\n",
    "    \n",
    "        self.encoder.fit(X[self.categorical_features])\n",
    "        self.encoded_features = self.encoder.get_feature_names_out()\n",
    "    \n",
    "        return self\n",
    "    \n",
    "    def transform(self, X):\n",
    "        X_copy = X.copy()\n",
    "       \n",
    "        X_copy[[f\"{f_}_ohenc\" for f_ in self.encoded_features]] = self.encoder.transform(X_copy[self.categorical_features])\n",
    "        \n",
    "        return X_copy\n"
   ]
  },
  {
   "cell_type": "code",
   "execution_count": 19,
   "metadata": {},
   "outputs": [],
   "source": [
    "ohe_trf = OneHotEncoderTransformer(categorical_features=CATEGORICAL_FEATURES)"
   ]
  },
  {
   "cell_type": "code",
   "execution_count": 20,
   "metadata": {},
   "outputs": [
    {
     "data": {
      "text/html": [
       "<style>#sk-container-id-2 {color: black;background-color: white;}#sk-container-id-2 pre{padding: 0;}#sk-container-id-2 div.sk-toggleable {background-color: white;}#sk-container-id-2 label.sk-toggleable__label {cursor: pointer;display: block;width: 100%;margin-bottom: 0;padding: 0.3em;box-sizing: border-box;text-align: center;}#sk-container-id-2 label.sk-toggleable__label-arrow:before {content: \"▸\";float: left;margin-right: 0.25em;color: #696969;}#sk-container-id-2 label.sk-toggleable__label-arrow:hover:before {color: black;}#sk-container-id-2 div.sk-estimator:hover label.sk-toggleable__label-arrow:before {color: black;}#sk-container-id-2 div.sk-toggleable__content {max-height: 0;max-width: 0;overflow: hidden;text-align: left;background-color: #f0f8ff;}#sk-container-id-2 div.sk-toggleable__content pre {margin: 0.2em;color: black;border-radius: 0.25em;background-color: #f0f8ff;}#sk-container-id-2 input.sk-toggleable__control:checked~div.sk-toggleable__content {max-height: 200px;max-width: 100%;overflow: auto;}#sk-container-id-2 input.sk-toggleable__control:checked~label.sk-toggleable__label-arrow:before {content: \"▾\";}#sk-container-id-2 div.sk-estimator input.sk-toggleable__control:checked~label.sk-toggleable__label {background-color: #d4ebff;}#sk-container-id-2 div.sk-label input.sk-toggleable__control:checked~label.sk-toggleable__label {background-color: #d4ebff;}#sk-container-id-2 input.sk-hidden--visually {border: 0;clip: rect(1px 1px 1px 1px);clip: rect(1px, 1px, 1px, 1px);height: 1px;margin: -1px;overflow: hidden;padding: 0;position: absolute;width: 1px;}#sk-container-id-2 div.sk-estimator {font-family: monospace;background-color: #f0f8ff;border: 1px dotted black;border-radius: 0.25em;box-sizing: border-box;margin-bottom: 0.5em;}#sk-container-id-2 div.sk-estimator:hover {background-color: #d4ebff;}#sk-container-id-2 div.sk-parallel-item::after {content: \"\";width: 100%;border-bottom: 1px solid gray;flex-grow: 1;}#sk-container-id-2 div.sk-label:hover label.sk-toggleable__label {background-color: #d4ebff;}#sk-container-id-2 div.sk-serial::before {content: \"\";position: absolute;border-left: 1px solid gray;box-sizing: border-box;top: 0;bottom: 0;left: 50%;z-index: 0;}#sk-container-id-2 div.sk-serial {display: flex;flex-direction: column;align-items: center;background-color: white;padding-right: 0.2em;padding-left: 0.2em;position: relative;}#sk-container-id-2 div.sk-item {position: relative;z-index: 1;}#sk-container-id-2 div.sk-parallel {display: flex;align-items: stretch;justify-content: center;background-color: white;position: relative;}#sk-container-id-2 div.sk-item::before, #sk-container-id-2 div.sk-parallel-item::before {content: \"\";position: absolute;border-left: 1px solid gray;box-sizing: border-box;top: 0;bottom: 0;left: 50%;z-index: -1;}#sk-container-id-2 div.sk-parallel-item {display: flex;flex-direction: column;z-index: 1;position: relative;background-color: white;}#sk-container-id-2 div.sk-parallel-item:first-child::after {align-self: flex-end;width: 50%;}#sk-container-id-2 div.sk-parallel-item:last-child::after {align-self: flex-start;width: 50%;}#sk-container-id-2 div.sk-parallel-item:only-child::after {width: 0;}#sk-container-id-2 div.sk-dashed-wrapped {border: 1px dashed gray;margin: 0 0.4em 0.5em 0.4em;box-sizing: border-box;padding-bottom: 0.4em;background-color: white;}#sk-container-id-2 div.sk-label label {font-family: monospace;font-weight: bold;display: inline-block;line-height: 1.2em;}#sk-container-id-2 div.sk-label-container {text-align: center;}#sk-container-id-2 div.sk-container {/* jupyter's `normalize.less` sets `[hidden] { display: none; }` but bootstrap.min.css set `[hidden] { display: none !important; }` so we also need the `!important` here to be able to override the default hidden behavior on the sphinx rendered scikit-learn.org. See: https://github.com/scikit-learn/scikit-learn/issues/21755 */display: inline-block !important;position: relative;}#sk-container-id-2 div.sk-text-repr-fallback {display: none;}</style><div id=\"sk-container-id-2\" class=\"sk-top-container\"><div class=\"sk-text-repr-fallback\"><pre>OneHotEncoderTransformer(categorical_features=[&#x27;job&#x27;, &#x27;marital&#x27;, &#x27;education&#x27;,\n",
       "                                               &#x27;default&#x27;, &#x27;housing&#x27;, &#x27;loan&#x27;,\n",
       "                                               &#x27;contact&#x27;, &#x27;day_of_week&#x27;,\n",
       "                                               &#x27;month&#x27;, &#x27;poutcome&#x27;])</pre><b>In a Jupyter environment, please rerun this cell to show the HTML representation or trust the notebook. <br />On GitHub, the HTML representation is unable to render, please try loading this page with nbviewer.org.</b></div><div class=\"sk-container\" hidden><div class=\"sk-item\"><div class=\"sk-estimator sk-toggleable\"><input class=\"sk-toggleable__control sk-hidden--visually\" id=\"sk-estimator-id-2\" type=\"checkbox\" checked><label for=\"sk-estimator-id-2\" class=\"sk-toggleable__label sk-toggleable__label-arrow\">OneHotEncoderTransformer</label><div class=\"sk-toggleable__content\"><pre>OneHotEncoderTransformer(categorical_features=[&#x27;job&#x27;, &#x27;marital&#x27;, &#x27;education&#x27;,\n",
       "                                               &#x27;default&#x27;, &#x27;housing&#x27;, &#x27;loan&#x27;,\n",
       "                                               &#x27;contact&#x27;, &#x27;day_of_week&#x27;,\n",
       "                                               &#x27;month&#x27;, &#x27;poutcome&#x27;])</pre></div></div></div></div></div>"
      ],
      "text/plain": [
       "OneHotEncoderTransformer(categorical_features=['job', 'marital', 'education',\n",
       "                                               'default', 'housing', 'loan',\n",
       "                                               'contact', 'day_of_week',\n",
       "                                               'month', 'poutcome'])"
      ]
     },
     "execution_count": 20,
     "metadata": {},
     "output_type": "execute_result"
    }
   ],
   "source": [
    "ohe_trf.fit(train_df)"
   ]
  },
  {
   "cell_type": "code",
   "execution_count": 21,
   "metadata": {},
   "outputs": [
    {
     "data": {
      "text/html": [
       "<div>\n",
       "<style scoped>\n",
       "    .dataframe tbody tr th:only-of-type {\n",
       "        vertical-align: middle;\n",
       "    }\n",
       "\n",
       "    .dataframe tbody tr th {\n",
       "        vertical-align: top;\n",
       "    }\n",
       "\n",
       "    .dataframe thead th {\n",
       "        text-align: right;\n",
       "    }\n",
       "</style>\n",
       "<table border=\"1\" class=\"dataframe\">\n",
       "  <thead>\n",
       "    <tr style=\"text-align: right;\">\n",
       "      <th></th>\n",
       "      <th>age</th>\n",
       "      <th>job</th>\n",
       "      <th>marital</th>\n",
       "      <th>education</th>\n",
       "      <th>default</th>\n",
       "      <th>balance</th>\n",
       "      <th>housing</th>\n",
       "      <th>loan</th>\n",
       "      <th>contact</th>\n",
       "      <th>day_of_week</th>\n",
       "      <th>...</th>\n",
       "      <th>month_jun_ohenc</th>\n",
       "      <th>month_mar_ohenc</th>\n",
       "      <th>month_may_ohenc</th>\n",
       "      <th>month_nov_ohenc</th>\n",
       "      <th>month_oct_ohenc</th>\n",
       "      <th>month_sep_ohenc</th>\n",
       "      <th>poutcome_failure_ohenc</th>\n",
       "      <th>poutcome_other_ohenc</th>\n",
       "      <th>poutcome_success_ohenc</th>\n",
       "      <th>poutcome_unknown_ohenc</th>\n",
       "    </tr>\n",
       "  </thead>\n",
       "  <tbody>\n",
       "    <tr>\n",
       "      <th>26086</th>\n",
       "      <td>33</td>\n",
       "      <td>blue-collar</td>\n",
       "      <td>married</td>\n",
       "      <td>secondary</td>\n",
       "      <td>no</td>\n",
       "      <td>0</td>\n",
       "      <td>yes</td>\n",
       "      <td>no</td>\n",
       "      <td>cellular</td>\n",
       "      <td>19</td>\n",
       "      <td>...</td>\n",
       "      <td>0.0</td>\n",
       "      <td>0.0</td>\n",
       "      <td>0.0</td>\n",
       "      <td>1.0</td>\n",
       "      <td>0.0</td>\n",
       "      <td>0.0</td>\n",
       "      <td>0.0</td>\n",
       "      <td>0.0</td>\n",
       "      <td>0.0</td>\n",
       "      <td>1.0</td>\n",
       "    </tr>\n",
       "    <tr>\n",
       "      <th>7587</th>\n",
       "      <td>52</td>\n",
       "      <td>management</td>\n",
       "      <td>divorced</td>\n",
       "      <td>tertiary</td>\n",
       "      <td>no</td>\n",
       "      <td>2909</td>\n",
       "      <td>yes</td>\n",
       "      <td>no</td>\n",
       "      <td>unknown</td>\n",
       "      <td>30</td>\n",
       "      <td>...</td>\n",
       "      <td>0.0</td>\n",
       "      <td>0.0</td>\n",
       "      <td>1.0</td>\n",
       "      <td>0.0</td>\n",
       "      <td>0.0</td>\n",
       "      <td>0.0</td>\n",
       "      <td>0.0</td>\n",
       "      <td>0.0</td>\n",
       "      <td>0.0</td>\n",
       "      <td>1.0</td>\n",
       "    </tr>\n",
       "    <tr>\n",
       "      <th>30609</th>\n",
       "      <td>55</td>\n",
       "      <td>technician</td>\n",
       "      <td>married</td>\n",
       "      <td>secondary</td>\n",
       "      <td>no</td>\n",
       "      <td>312</td>\n",
       "      <td>no</td>\n",
       "      <td>no</td>\n",
       "      <td>cellular</td>\n",
       "      <td>6</td>\n",
       "      <td>...</td>\n",
       "      <td>0.0</td>\n",
       "      <td>0.0</td>\n",
       "      <td>0.0</td>\n",
       "      <td>0.0</td>\n",
       "      <td>0.0</td>\n",
       "      <td>0.0</td>\n",
       "      <td>0.0</td>\n",
       "      <td>1.0</td>\n",
       "      <td>0.0</td>\n",
       "      <td>0.0</td>\n",
       "    </tr>\n",
       "    <tr>\n",
       "      <th>17624</th>\n",
       "      <td>59</td>\n",
       "      <td>admin.</td>\n",
       "      <td>divorced</td>\n",
       "      <td>secondary</td>\n",
       "      <td>no</td>\n",
       "      <td>1525</td>\n",
       "      <td>no</td>\n",
       "      <td>no</td>\n",
       "      <td>telephone</td>\n",
       "      <td>29</td>\n",
       "      <td>...</td>\n",
       "      <td>0.0</td>\n",
       "      <td>0.0</td>\n",
       "      <td>0.0</td>\n",
       "      <td>0.0</td>\n",
       "      <td>0.0</td>\n",
       "      <td>0.0</td>\n",
       "      <td>0.0</td>\n",
       "      <td>0.0</td>\n",
       "      <td>0.0</td>\n",
       "      <td>1.0</td>\n",
       "    </tr>\n",
       "    <tr>\n",
       "      <th>6390</th>\n",
       "      <td>25</td>\n",
       "      <td>blue-collar</td>\n",
       "      <td>single</td>\n",
       "      <td>secondary</td>\n",
       "      <td>no</td>\n",
       "      <td>154</td>\n",
       "      <td>yes</td>\n",
       "      <td>no</td>\n",
       "      <td>unknown</td>\n",
       "      <td>27</td>\n",
       "      <td>...</td>\n",
       "      <td>0.0</td>\n",
       "      <td>0.0</td>\n",
       "      <td>1.0</td>\n",
       "      <td>0.0</td>\n",
       "      <td>0.0</td>\n",
       "      <td>0.0</td>\n",
       "      <td>0.0</td>\n",
       "      <td>0.0</td>\n",
       "      <td>0.0</td>\n",
       "      <td>1.0</td>\n",
       "    </tr>\n",
       "    <tr>\n",
       "      <th>...</th>\n",
       "      <td>...</td>\n",
       "      <td>...</td>\n",
       "      <td>...</td>\n",
       "      <td>...</td>\n",
       "      <td>...</td>\n",
       "      <td>...</td>\n",
       "      <td>...</td>\n",
       "      <td>...</td>\n",
       "      <td>...</td>\n",
       "      <td>...</td>\n",
       "      <td>...</td>\n",
       "      <td>...</td>\n",
       "      <td>...</td>\n",
       "      <td>...</td>\n",
       "      <td>...</td>\n",
       "      <td>...</td>\n",
       "      <td>...</td>\n",
       "      <td>...</td>\n",
       "      <td>...</td>\n",
       "      <td>...</td>\n",
       "      <td>...</td>\n",
       "    </tr>\n",
       "    <tr>\n",
       "      <th>40018</th>\n",
       "      <td>26</td>\n",
       "      <td>management</td>\n",
       "      <td>single</td>\n",
       "      <td>tertiary</td>\n",
       "      <td>no</td>\n",
       "      <td>2786</td>\n",
       "      <td>no</td>\n",
       "      <td>no</td>\n",
       "      <td>cellular</td>\n",
       "      <td>3</td>\n",
       "      <td>...</td>\n",
       "      <td>1.0</td>\n",
       "      <td>0.0</td>\n",
       "      <td>0.0</td>\n",
       "      <td>0.0</td>\n",
       "      <td>0.0</td>\n",
       "      <td>0.0</td>\n",
       "      <td>0.0</td>\n",
       "      <td>0.0</td>\n",
       "      <td>1.0</td>\n",
       "      <td>0.0</td>\n",
       "    </tr>\n",
       "    <tr>\n",
       "      <th>44532</th>\n",
       "      <td>39</td>\n",
       "      <td>blue-collar</td>\n",
       "      <td>married</td>\n",
       "      <td>secondary</td>\n",
       "      <td>no</td>\n",
       "      <td>1382</td>\n",
       "      <td>yes</td>\n",
       "      <td>no</td>\n",
       "      <td>cellular</td>\n",
       "      <td>12</td>\n",
       "      <td>...</td>\n",
       "      <td>0.0</td>\n",
       "      <td>0.0</td>\n",
       "      <td>0.0</td>\n",
       "      <td>0.0</td>\n",
       "      <td>0.0</td>\n",
       "      <td>0.0</td>\n",
       "      <td>0.0</td>\n",
       "      <td>0.0</td>\n",
       "      <td>1.0</td>\n",
       "      <td>0.0</td>\n",
       "    </tr>\n",
       "    <tr>\n",
       "      <th>7155</th>\n",
       "      <td>51</td>\n",
       "      <td>blue-collar</td>\n",
       "      <td>married</td>\n",
       "      <td>secondary</td>\n",
       "      <td>no</td>\n",
       "      <td>2237</td>\n",
       "      <td>yes</td>\n",
       "      <td>no</td>\n",
       "      <td>unknown</td>\n",
       "      <td>29</td>\n",
       "      <td>...</td>\n",
       "      <td>0.0</td>\n",
       "      <td>0.0</td>\n",
       "      <td>1.0</td>\n",
       "      <td>0.0</td>\n",
       "      <td>0.0</td>\n",
       "      <td>0.0</td>\n",
       "      <td>0.0</td>\n",
       "      <td>0.0</td>\n",
       "      <td>0.0</td>\n",
       "      <td>1.0</td>\n",
       "    </tr>\n",
       "    <tr>\n",
       "      <th>4273</th>\n",
       "      <td>28</td>\n",
       "      <td>blue-collar</td>\n",
       "      <td>single</td>\n",
       "      <td>secondary</td>\n",
       "      <td>no</td>\n",
       "      <td>362</td>\n",
       "      <td>yes</td>\n",
       "      <td>no</td>\n",
       "      <td>unknown</td>\n",
       "      <td>19</td>\n",
       "      <td>...</td>\n",
       "      <td>0.0</td>\n",
       "      <td>0.0</td>\n",
       "      <td>1.0</td>\n",
       "      <td>0.0</td>\n",
       "      <td>0.0</td>\n",
       "      <td>0.0</td>\n",
       "      <td>0.0</td>\n",
       "      <td>0.0</td>\n",
       "      <td>0.0</td>\n",
       "      <td>1.0</td>\n",
       "    </tr>\n",
       "    <tr>\n",
       "      <th>4304</th>\n",
       "      <td>28</td>\n",
       "      <td>admin.</td>\n",
       "      <td>single</td>\n",
       "      <td>secondary</td>\n",
       "      <td>no</td>\n",
       "      <td>350</td>\n",
       "      <td>yes</td>\n",
       "      <td>yes</td>\n",
       "      <td>unknown</td>\n",
       "      <td>19</td>\n",
       "      <td>...</td>\n",
       "      <td>0.0</td>\n",
       "      <td>0.0</td>\n",
       "      <td>1.0</td>\n",
       "      <td>0.0</td>\n",
       "      <td>0.0</td>\n",
       "      <td>0.0</td>\n",
       "      <td>0.0</td>\n",
       "      <td>0.0</td>\n",
       "      <td>0.0</td>\n",
       "      <td>1.0</td>\n",
       "    </tr>\n",
       "  </tbody>\n",
       "</table>\n",
       "<p>36168 rows × 92 columns</p>\n",
       "</div>"
      ],
      "text/plain": [
       "       age          job   marital  education default  balance housing loan  \\\n",
       "26086   33  blue-collar   married  secondary      no        0     yes   no   \n",
       "7587    52   management  divorced   tertiary      no     2909     yes   no   \n",
       "30609   55   technician   married  secondary      no      312      no   no   \n",
       "17624   59       admin.  divorced  secondary      no     1525      no   no   \n",
       "6390    25  blue-collar    single  secondary      no      154     yes   no   \n",
       "...    ...          ...       ...        ...     ...      ...     ...  ...   \n",
       "40018   26   management    single   tertiary      no     2786      no   no   \n",
       "44532   39  blue-collar   married  secondary      no     1382     yes   no   \n",
       "7155    51  blue-collar   married  secondary      no     2237     yes   no   \n",
       "4273    28  blue-collar    single  secondary      no      362     yes   no   \n",
       "4304    28       admin.    single  secondary      no      350     yes  yes   \n",
       "\n",
       "         contact  day_of_week  ... month_jun_ohenc  month_mar_ohenc  \\\n",
       "26086   cellular           19  ...             0.0              0.0   \n",
       "7587     unknown           30  ...             0.0              0.0   \n",
       "30609   cellular            6  ...             0.0              0.0   \n",
       "17624  telephone           29  ...             0.0              0.0   \n",
       "6390     unknown           27  ...             0.0              0.0   \n",
       "...          ...          ...  ...             ...              ...   \n",
       "40018   cellular            3  ...             1.0              0.0   \n",
       "44532   cellular           12  ...             0.0              0.0   \n",
       "7155     unknown           29  ...             0.0              0.0   \n",
       "4273     unknown           19  ...             0.0              0.0   \n",
       "4304     unknown           19  ...             0.0              0.0   \n",
       "\n",
       "       month_may_ohenc  month_nov_ohenc  month_oct_ohenc month_sep_ohenc  \\\n",
       "26086              0.0              1.0              0.0             0.0   \n",
       "7587               1.0              0.0              0.0             0.0   \n",
       "30609              0.0              0.0              0.0             0.0   \n",
       "17624              0.0              0.0              0.0             0.0   \n",
       "6390               1.0              0.0              0.0             0.0   \n",
       "...                ...              ...              ...             ...   \n",
       "40018              0.0              0.0              0.0             0.0   \n",
       "44532              0.0              0.0              0.0             0.0   \n",
       "7155               1.0              0.0              0.0             0.0   \n",
       "4273               1.0              0.0              0.0             0.0   \n",
       "4304               1.0              0.0              0.0             0.0   \n",
       "\n",
       "       poutcome_failure_ohenc  poutcome_other_ohenc  poutcome_success_ohenc  \\\n",
       "26086                     0.0                   0.0                     0.0   \n",
       "7587                      0.0                   0.0                     0.0   \n",
       "30609                     0.0                   1.0                     0.0   \n",
       "17624                     0.0                   0.0                     0.0   \n",
       "6390                      0.0                   0.0                     0.0   \n",
       "...                       ...                   ...                     ...   \n",
       "40018                     0.0                   0.0                     1.0   \n",
       "44532                     0.0                   0.0                     1.0   \n",
       "7155                      0.0                   0.0                     0.0   \n",
       "4273                      0.0                   0.0                     0.0   \n",
       "4304                      0.0                   0.0                     0.0   \n",
       "\n",
       "       poutcome_unknown_ohenc  \n",
       "26086                     1.0  \n",
       "7587                      1.0  \n",
       "30609                     0.0  \n",
       "17624                     1.0  \n",
       "6390                      1.0  \n",
       "...                       ...  \n",
       "40018                     0.0  \n",
       "44532                     0.0  \n",
       "7155                      1.0  \n",
       "4273                      1.0  \n",
       "4304                      1.0  \n",
       "\n",
       "[36168 rows x 92 columns]"
      ]
     },
     "execution_count": 21,
     "metadata": {},
     "output_type": "execute_result"
    }
   ],
   "source": [
    "ohe_trf.transform(train_df)"
   ]
  },
  {
   "cell_type": "code",
   "execution_count": null,
   "metadata": {},
   "outputs": [],
   "source": []
  },
  {
   "cell_type": "code",
   "execution_count": 22,
   "metadata": {},
   "outputs": [],
   "source": [
    "class SmoothedTargetEncodingTransformer(BaseEstimator, TransformerMixin):\n",
    "    ### Uses smoothed target encoding\n",
    "    ### https://www.kaggle.com/code/ryanholbrook/target-encoding\n",
    "    ### m is a value between 0 to 100\n",
    "    \n",
    "    def __init__(self, categorical_features, target_feature, m=25):\n",
    "        self.categorical_features = categorical_features\n",
    "        self.target_feature = target_feature\n",
    "        self.m = m\n",
    "\n",
    "    def fit(self, X, y=None):\n",
    "        X_copy = X.copy()\n",
    "\n",
    "        self.overall_average = X_copy[self.target_feature].mean()\n",
    "        \n",
    "        cat_dict = {}\n",
    "        \n",
    "        for cat_ in self.categorical_features:\n",
    "            agg_df = X_copy.groupby(cat_).agg({self.target_feature:'mean', cat_:'count'})\n",
    "            ### weight = counts of the category in set / counts of the category in set + m\n",
    "            agg_df[\"weight\"] = 1.0/(1.0 + self.m/agg_df[cat_])\n",
    "            ### encoding = weight * in category average of target + (1 - weight) * overall average of target\n",
    "            agg_df[\"encoding\"] = agg_df[\"weight\"]*agg_df[self.target_feature] + (1.0 - agg_df[\"weight\"])*self.overall_average\n",
    "            \n",
    "            cat_dict[cat_] = agg_df[\"encoding\"].to_dict()\n",
    "            \n",
    "        self.cat_dict = cat_dict\n",
    "        return self\n",
    "    \n",
    "    def transform(self, X):\n",
    "        X_copy = X.copy()\n",
    "        for cat_, dict_ in self.cat_dict.items():\n",
    "            X_copy[f\"{cat_}_tenc\"] = X_copy[cat_].map(dict_)\n",
    "            ### Fill missing categories with overall average of target\n",
    "            X_copy[f\"{cat_}_tenc\"] = X_copy[f\"{cat_}_tenc\"].fillna(self.overall_average)\n",
    "        return X_copy\n"
   ]
  },
  {
   "cell_type": "code",
   "execution_count": 23,
   "metadata": {},
   "outputs": [],
   "source": [
    "stenc_trf = SmoothedTargetEncodingTransformer(categorical_features=CATEGORICAL_FEATURES, target_feature=TARGET_FEATURE, m=0.05)\n"
   ]
  },
  {
   "cell_type": "code",
   "execution_count": 24,
   "metadata": {},
   "outputs": [
    {
     "data": {
      "text/html": [
       "<style>#sk-container-id-3 {color: black;background-color: white;}#sk-container-id-3 pre{padding: 0;}#sk-container-id-3 div.sk-toggleable {background-color: white;}#sk-container-id-3 label.sk-toggleable__label {cursor: pointer;display: block;width: 100%;margin-bottom: 0;padding: 0.3em;box-sizing: border-box;text-align: center;}#sk-container-id-3 label.sk-toggleable__label-arrow:before {content: \"▸\";float: left;margin-right: 0.25em;color: #696969;}#sk-container-id-3 label.sk-toggleable__label-arrow:hover:before {color: black;}#sk-container-id-3 div.sk-estimator:hover label.sk-toggleable__label-arrow:before {color: black;}#sk-container-id-3 div.sk-toggleable__content {max-height: 0;max-width: 0;overflow: hidden;text-align: left;background-color: #f0f8ff;}#sk-container-id-3 div.sk-toggleable__content pre {margin: 0.2em;color: black;border-radius: 0.25em;background-color: #f0f8ff;}#sk-container-id-3 input.sk-toggleable__control:checked~div.sk-toggleable__content {max-height: 200px;max-width: 100%;overflow: auto;}#sk-container-id-3 input.sk-toggleable__control:checked~label.sk-toggleable__label-arrow:before {content: \"▾\";}#sk-container-id-3 div.sk-estimator input.sk-toggleable__control:checked~label.sk-toggleable__label {background-color: #d4ebff;}#sk-container-id-3 div.sk-label input.sk-toggleable__control:checked~label.sk-toggleable__label {background-color: #d4ebff;}#sk-container-id-3 input.sk-hidden--visually {border: 0;clip: rect(1px 1px 1px 1px);clip: rect(1px, 1px, 1px, 1px);height: 1px;margin: -1px;overflow: hidden;padding: 0;position: absolute;width: 1px;}#sk-container-id-3 div.sk-estimator {font-family: monospace;background-color: #f0f8ff;border: 1px dotted black;border-radius: 0.25em;box-sizing: border-box;margin-bottom: 0.5em;}#sk-container-id-3 div.sk-estimator:hover {background-color: #d4ebff;}#sk-container-id-3 div.sk-parallel-item::after {content: \"\";width: 100%;border-bottom: 1px solid gray;flex-grow: 1;}#sk-container-id-3 div.sk-label:hover label.sk-toggleable__label {background-color: #d4ebff;}#sk-container-id-3 div.sk-serial::before {content: \"\";position: absolute;border-left: 1px solid gray;box-sizing: border-box;top: 0;bottom: 0;left: 50%;z-index: 0;}#sk-container-id-3 div.sk-serial {display: flex;flex-direction: column;align-items: center;background-color: white;padding-right: 0.2em;padding-left: 0.2em;position: relative;}#sk-container-id-3 div.sk-item {position: relative;z-index: 1;}#sk-container-id-3 div.sk-parallel {display: flex;align-items: stretch;justify-content: center;background-color: white;position: relative;}#sk-container-id-3 div.sk-item::before, #sk-container-id-3 div.sk-parallel-item::before {content: \"\";position: absolute;border-left: 1px solid gray;box-sizing: border-box;top: 0;bottom: 0;left: 50%;z-index: -1;}#sk-container-id-3 div.sk-parallel-item {display: flex;flex-direction: column;z-index: 1;position: relative;background-color: white;}#sk-container-id-3 div.sk-parallel-item:first-child::after {align-self: flex-end;width: 50%;}#sk-container-id-3 div.sk-parallel-item:last-child::after {align-self: flex-start;width: 50%;}#sk-container-id-3 div.sk-parallel-item:only-child::after {width: 0;}#sk-container-id-3 div.sk-dashed-wrapped {border: 1px dashed gray;margin: 0 0.4em 0.5em 0.4em;box-sizing: border-box;padding-bottom: 0.4em;background-color: white;}#sk-container-id-3 div.sk-label label {font-family: monospace;font-weight: bold;display: inline-block;line-height: 1.2em;}#sk-container-id-3 div.sk-label-container {text-align: center;}#sk-container-id-3 div.sk-container {/* jupyter's `normalize.less` sets `[hidden] { display: none; }` but bootstrap.min.css set `[hidden] { display: none !important; }` so we also need the `!important` here to be able to override the default hidden behavior on the sphinx rendered scikit-learn.org. See: https://github.com/scikit-learn/scikit-learn/issues/21755 */display: inline-block !important;position: relative;}#sk-container-id-3 div.sk-text-repr-fallback {display: none;}</style><div id=\"sk-container-id-3\" class=\"sk-top-container\"><div class=\"sk-text-repr-fallback\"><pre>SmoothedTargetEncodingTransformer(categorical_features=[&#x27;job&#x27;, &#x27;marital&#x27;,\n",
       "                                                        &#x27;education&#x27;, &#x27;default&#x27;,\n",
       "                                                        &#x27;housing&#x27;, &#x27;loan&#x27;,\n",
       "                                                        &#x27;contact&#x27;,\n",
       "                                                        &#x27;day_of_week&#x27;, &#x27;month&#x27;,\n",
       "                                                        &#x27;poutcome&#x27;],\n",
       "                                  m=0.05, target_feature=&#x27;y&#x27;)</pre><b>In a Jupyter environment, please rerun this cell to show the HTML representation or trust the notebook. <br />On GitHub, the HTML representation is unable to render, please try loading this page with nbviewer.org.</b></div><div class=\"sk-container\" hidden><div class=\"sk-item\"><div class=\"sk-estimator sk-toggleable\"><input class=\"sk-toggleable__control sk-hidden--visually\" id=\"sk-estimator-id-3\" type=\"checkbox\" checked><label for=\"sk-estimator-id-3\" class=\"sk-toggleable__label sk-toggleable__label-arrow\">SmoothedTargetEncodingTransformer</label><div class=\"sk-toggleable__content\"><pre>SmoothedTargetEncodingTransformer(categorical_features=[&#x27;job&#x27;, &#x27;marital&#x27;,\n",
       "                                                        &#x27;education&#x27;, &#x27;default&#x27;,\n",
       "                                                        &#x27;housing&#x27;, &#x27;loan&#x27;,\n",
       "                                                        &#x27;contact&#x27;,\n",
       "                                                        &#x27;day_of_week&#x27;, &#x27;month&#x27;,\n",
       "                                                        &#x27;poutcome&#x27;],\n",
       "                                  m=0.05, target_feature=&#x27;y&#x27;)</pre></div></div></div></div></div>"
      ],
      "text/plain": [
       "SmoothedTargetEncodingTransformer(categorical_features=['job', 'marital',\n",
       "                                                        'education', 'default',\n",
       "                                                        'housing', 'loan',\n",
       "                                                        'contact',\n",
       "                                                        'day_of_week', 'month',\n",
       "                                                        'poutcome'],\n",
       "                                  m=0.05, target_feature='y')"
      ]
     },
     "execution_count": 24,
     "metadata": {},
     "output_type": "execute_result"
    }
   ],
   "source": [
    "stenc_trf.fit(train_df)"
   ]
  },
  {
   "cell_type": "code",
   "execution_count": 25,
   "metadata": {},
   "outputs": [
    {
     "data": {
      "text/html": [
       "<div>\n",
       "<style scoped>\n",
       "    .dataframe tbody tr th:only-of-type {\n",
       "        vertical-align: middle;\n",
       "    }\n",
       "\n",
       "    .dataframe tbody tr th {\n",
       "        vertical-align: top;\n",
       "    }\n",
       "\n",
       "    .dataframe thead th {\n",
       "        text-align: right;\n",
       "    }\n",
       "</style>\n",
       "<table border=\"1\" class=\"dataframe\">\n",
       "  <thead>\n",
       "    <tr style=\"text-align: right;\">\n",
       "      <th></th>\n",
       "      <th>age</th>\n",
       "      <th>job</th>\n",
       "      <th>marital</th>\n",
       "      <th>education</th>\n",
       "      <th>default</th>\n",
       "      <th>balance</th>\n",
       "      <th>housing</th>\n",
       "      <th>loan</th>\n",
       "      <th>contact</th>\n",
       "      <th>day_of_week</th>\n",
       "      <th>...</th>\n",
       "      <th>job_tenc</th>\n",
       "      <th>marital_tenc</th>\n",
       "      <th>education_tenc</th>\n",
       "      <th>default_tenc</th>\n",
       "      <th>housing_tenc</th>\n",
       "      <th>loan_tenc</th>\n",
       "      <th>contact_tenc</th>\n",
       "      <th>day_of_week_tenc</th>\n",
       "      <th>month_tenc</th>\n",
       "      <th>poutcome_tenc</th>\n",
       "    </tr>\n",
       "  </thead>\n",
       "  <tbody>\n",
       "    <tr>\n",
       "      <th>26086</th>\n",
       "      <td>33</td>\n",
       "      <td>blue-collar</td>\n",
       "      <td>married</td>\n",
       "      <td>secondary</td>\n",
       "      <td>no</td>\n",
       "      <td>0</td>\n",
       "      <td>yes</td>\n",
       "      <td>no</td>\n",
       "      <td>cellular</td>\n",
       "      <td>19</td>\n",
       "      <td>...</td>\n",
       "      <td>0.075302</td>\n",
       "      <td>0.103361</td>\n",
       "      <td>0.106516</td>\n",
       "      <td>0.118938</td>\n",
       "      <td>0.077982</td>\n",
       "      <td>0.12789</td>\n",
       "      <td>0.150040</td>\n",
       "      <td>0.070016</td>\n",
       "      <td>0.103645</td>\n",
       "      <td>0.092230</td>\n",
       "    </tr>\n",
       "    <tr>\n",
       "      <th>7587</th>\n",
       "      <td>52</td>\n",
       "      <td>management</td>\n",
       "      <td>divorced</td>\n",
       "      <td>tertiary</td>\n",
       "      <td>no</td>\n",
       "      <td>2909</td>\n",
       "      <td>yes</td>\n",
       "      <td>no</td>\n",
       "      <td>unknown</td>\n",
       "      <td>30</td>\n",
       "      <td>...</td>\n",
       "      <td>0.138447</td>\n",
       "      <td>0.119673</td>\n",
       "      <td>0.150805</td>\n",
       "      <td>0.118938</td>\n",
       "      <td>0.077982</td>\n",
       "      <td>0.12789</td>\n",
       "      <td>0.041331</td>\n",
       "      <td>0.174918</td>\n",
       "      <td>0.065851</td>\n",
       "      <td>0.092230</td>\n",
       "    </tr>\n",
       "    <tr>\n",
       "      <th>30609</th>\n",
       "      <td>55</td>\n",
       "      <td>technician</td>\n",
       "      <td>married</td>\n",
       "      <td>secondary</td>\n",
       "      <td>no</td>\n",
       "      <td>312</td>\n",
       "      <td>no</td>\n",
       "      <td>no</td>\n",
       "      <td>cellular</td>\n",
       "      <td>6</td>\n",
       "      <td>...</td>\n",
       "      <td>0.111166</td>\n",
       "      <td>0.103361</td>\n",
       "      <td>0.106516</td>\n",
       "      <td>0.118938</td>\n",
       "      <td>0.167871</td>\n",
       "      <td>0.12789</td>\n",
       "      <td>0.150040</td>\n",
       "      <td>0.096691</td>\n",
       "      <td>0.164050</td>\n",
       "      <td>0.165869</td>\n",
       "    </tr>\n",
       "    <tr>\n",
       "      <th>17624</th>\n",
       "      <td>59</td>\n",
       "      <td>admin.</td>\n",
       "      <td>divorced</td>\n",
       "      <td>secondary</td>\n",
       "      <td>no</td>\n",
       "      <td>1525</td>\n",
       "      <td>no</td>\n",
       "      <td>no</td>\n",
       "      <td>telephone</td>\n",
       "      <td>29</td>\n",
       "      <td>...</td>\n",
       "      <td>0.123887</td>\n",
       "      <td>0.119673</td>\n",
       "      <td>0.106516</td>\n",
       "      <td>0.118938</td>\n",
       "      <td>0.167871</td>\n",
       "      <td>0.12789</td>\n",
       "      <td>0.135829</td>\n",
       "      <td>0.080567</td>\n",
       "      <td>0.093558</td>\n",
       "      <td>0.092230</td>\n",
       "    </tr>\n",
       "    <tr>\n",
       "      <th>6390</th>\n",
       "      <td>25</td>\n",
       "      <td>blue-collar</td>\n",
       "      <td>single</td>\n",
       "      <td>secondary</td>\n",
       "      <td>no</td>\n",
       "      <td>154</td>\n",
       "      <td>yes</td>\n",
       "      <td>no</td>\n",
       "      <td>unknown</td>\n",
       "      <td>27</td>\n",
       "      <td>...</td>\n",
       "      <td>0.075302</td>\n",
       "      <td>0.147992</td>\n",
       "      <td>0.106516</td>\n",
       "      <td>0.118938</td>\n",
       "      <td>0.077982</td>\n",
       "      <td>0.12789</td>\n",
       "      <td>0.041331</td>\n",
       "      <td>0.134311</td>\n",
       "      <td>0.065851</td>\n",
       "      <td>0.092230</td>\n",
       "    </tr>\n",
       "    <tr>\n",
       "      <th>...</th>\n",
       "      <td>...</td>\n",
       "      <td>...</td>\n",
       "      <td>...</td>\n",
       "      <td>...</td>\n",
       "      <td>...</td>\n",
       "      <td>...</td>\n",
       "      <td>...</td>\n",
       "      <td>...</td>\n",
       "      <td>...</td>\n",
       "      <td>...</td>\n",
       "      <td>...</td>\n",
       "      <td>...</td>\n",
       "      <td>...</td>\n",
       "      <td>...</td>\n",
       "      <td>...</td>\n",
       "      <td>...</td>\n",
       "      <td>...</td>\n",
       "      <td>...</td>\n",
       "      <td>...</td>\n",
       "      <td>...</td>\n",
       "      <td>...</td>\n",
       "    </tr>\n",
       "    <tr>\n",
       "      <th>40018</th>\n",
       "      <td>26</td>\n",
       "      <td>management</td>\n",
       "      <td>single</td>\n",
       "      <td>tertiary</td>\n",
       "      <td>no</td>\n",
       "      <td>2786</td>\n",
       "      <td>no</td>\n",
       "      <td>no</td>\n",
       "      <td>cellular</td>\n",
       "      <td>3</td>\n",
       "      <td>...</td>\n",
       "      <td>0.138447</td>\n",
       "      <td>0.147992</td>\n",
       "      <td>0.150805</td>\n",
       "      <td>0.118938</td>\n",
       "      <td>0.167871</td>\n",
       "      <td>0.12789</td>\n",
       "      <td>0.150040</td>\n",
       "      <td>0.170385</td>\n",
       "      <td>0.103238</td>\n",
       "      <td>0.659219</td>\n",
       "    </tr>\n",
       "    <tr>\n",
       "      <th>44532</th>\n",
       "      <td>39</td>\n",
       "      <td>blue-collar</td>\n",
       "      <td>married</td>\n",
       "      <td>secondary</td>\n",
       "      <td>no</td>\n",
       "      <td>1382</td>\n",
       "      <td>yes</td>\n",
       "      <td>no</td>\n",
       "      <td>cellular</td>\n",
       "      <td>12</td>\n",
       "      <td>...</td>\n",
       "      <td>0.075302</td>\n",
       "      <td>0.103361</td>\n",
       "      <td>0.106516</td>\n",
       "      <td>0.118938</td>\n",
       "      <td>0.077982</td>\n",
       "      <td>0.12789</td>\n",
       "      <td>0.150040</td>\n",
       "      <td>0.156320</td>\n",
       "      <td>0.115653</td>\n",
       "      <td>0.659219</td>\n",
       "    </tr>\n",
       "    <tr>\n",
       "      <th>7155</th>\n",
       "      <td>51</td>\n",
       "      <td>blue-collar</td>\n",
       "      <td>married</td>\n",
       "      <td>secondary</td>\n",
       "      <td>no</td>\n",
       "      <td>2237</td>\n",
       "      <td>yes</td>\n",
       "      <td>no</td>\n",
       "      <td>unknown</td>\n",
       "      <td>29</td>\n",
       "      <td>...</td>\n",
       "      <td>0.075302</td>\n",
       "      <td>0.103361</td>\n",
       "      <td>0.106516</td>\n",
       "      <td>0.118938</td>\n",
       "      <td>0.077982</td>\n",
       "      <td>0.12789</td>\n",
       "      <td>0.041331</td>\n",
       "      <td>0.080567</td>\n",
       "      <td>0.065851</td>\n",
       "      <td>0.092230</td>\n",
       "    </tr>\n",
       "    <tr>\n",
       "      <th>4273</th>\n",
       "      <td>28</td>\n",
       "      <td>blue-collar</td>\n",
       "      <td>single</td>\n",
       "      <td>secondary</td>\n",
       "      <td>no</td>\n",
       "      <td>362</td>\n",
       "      <td>yes</td>\n",
       "      <td>no</td>\n",
       "      <td>unknown</td>\n",
       "      <td>19</td>\n",
       "      <td>...</td>\n",
       "      <td>0.075302</td>\n",
       "      <td>0.147992</td>\n",
       "      <td>0.106516</td>\n",
       "      <td>0.118938</td>\n",
       "      <td>0.077982</td>\n",
       "      <td>0.12789</td>\n",
       "      <td>0.041331</td>\n",
       "      <td>0.070016</td>\n",
       "      <td>0.065851</td>\n",
       "      <td>0.092230</td>\n",
       "    </tr>\n",
       "    <tr>\n",
       "      <th>4304</th>\n",
       "      <td>28</td>\n",
       "      <td>admin.</td>\n",
       "      <td>single</td>\n",
       "      <td>secondary</td>\n",
       "      <td>no</td>\n",
       "      <td>350</td>\n",
       "      <td>yes</td>\n",
       "      <td>yes</td>\n",
       "      <td>unknown</td>\n",
       "      <td>19</td>\n",
       "      <td>...</td>\n",
       "      <td>0.123887</td>\n",
       "      <td>0.147992</td>\n",
       "      <td>0.106516</td>\n",
       "      <td>0.118938</td>\n",
       "      <td>0.077982</td>\n",
       "      <td>0.06545</td>\n",
       "      <td>0.041331</td>\n",
       "      <td>0.070016</td>\n",
       "      <td>0.065851</td>\n",
       "      <td>0.092230</td>\n",
       "    </tr>\n",
       "  </tbody>\n",
       "</table>\n",
       "<p>36168 rows × 27 columns</p>\n",
       "</div>"
      ],
      "text/plain": [
       "       age          job   marital  education default  balance housing loan  \\\n",
       "26086   33  blue-collar   married  secondary      no        0     yes   no   \n",
       "7587    52   management  divorced   tertiary      no     2909     yes   no   \n",
       "30609   55   technician   married  secondary      no      312      no   no   \n",
       "17624   59       admin.  divorced  secondary      no     1525      no   no   \n",
       "6390    25  blue-collar    single  secondary      no      154     yes   no   \n",
       "...    ...          ...       ...        ...     ...      ...     ...  ...   \n",
       "40018   26   management    single   tertiary      no     2786      no   no   \n",
       "44532   39  blue-collar   married  secondary      no     1382     yes   no   \n",
       "7155    51  blue-collar   married  secondary      no     2237     yes   no   \n",
       "4273    28  blue-collar    single  secondary      no      362     yes   no   \n",
       "4304    28       admin.    single  secondary      no      350     yes  yes   \n",
       "\n",
       "         contact  day_of_week  ...  job_tenc  marital_tenc  education_tenc  \\\n",
       "26086   cellular           19  ...  0.075302      0.103361        0.106516   \n",
       "7587     unknown           30  ...  0.138447      0.119673        0.150805   \n",
       "30609   cellular            6  ...  0.111166      0.103361        0.106516   \n",
       "17624  telephone           29  ...  0.123887      0.119673        0.106516   \n",
       "6390     unknown           27  ...  0.075302      0.147992        0.106516   \n",
       "...          ...          ...  ...       ...           ...             ...   \n",
       "40018   cellular            3  ...  0.138447      0.147992        0.150805   \n",
       "44532   cellular           12  ...  0.075302      0.103361        0.106516   \n",
       "7155     unknown           29  ...  0.075302      0.103361        0.106516   \n",
       "4273     unknown           19  ...  0.075302      0.147992        0.106516   \n",
       "4304     unknown           19  ...  0.123887      0.147992        0.106516   \n",
       "\n",
       "       default_tenc  housing_tenc loan_tenc  contact_tenc  day_of_week_tenc  \\\n",
       "26086      0.118938      0.077982   0.12789      0.150040          0.070016   \n",
       "7587       0.118938      0.077982   0.12789      0.041331          0.174918   \n",
       "30609      0.118938      0.167871   0.12789      0.150040          0.096691   \n",
       "17624      0.118938      0.167871   0.12789      0.135829          0.080567   \n",
       "6390       0.118938      0.077982   0.12789      0.041331          0.134311   \n",
       "...             ...           ...       ...           ...               ...   \n",
       "40018      0.118938      0.167871   0.12789      0.150040          0.170385   \n",
       "44532      0.118938      0.077982   0.12789      0.150040          0.156320   \n",
       "7155       0.118938      0.077982   0.12789      0.041331          0.080567   \n",
       "4273       0.118938      0.077982   0.12789      0.041331          0.070016   \n",
       "4304       0.118938      0.077982   0.06545      0.041331          0.070016   \n",
       "\n",
       "       month_tenc  poutcome_tenc  \n",
       "26086    0.103645       0.092230  \n",
       "7587     0.065851       0.092230  \n",
       "30609    0.164050       0.165869  \n",
       "17624    0.093558       0.092230  \n",
       "6390     0.065851       0.092230  \n",
       "...           ...            ...  \n",
       "40018    0.103238       0.659219  \n",
       "44532    0.115653       0.659219  \n",
       "7155     0.065851       0.092230  \n",
       "4273     0.065851       0.092230  \n",
       "4304     0.065851       0.092230  \n",
       "\n",
       "[36168 rows x 27 columns]"
      ]
     },
     "execution_count": 25,
     "metadata": {},
     "output_type": "execute_result"
    }
   ],
   "source": [
    "stenc_trf.transform(train_df)"
   ]
  },
  {
   "cell_type": "code",
   "execution_count": null,
   "metadata": {},
   "outputs": [],
   "source": []
  },
  {
   "cell_type": "code",
   "execution_count": 26,
   "metadata": {},
   "outputs": [],
   "source": [
    "class PolynomialFeaturesTransformer(BaseEstimator, TransformerMixin):\n",
    "    \n",
    "    def __init__(self, numerical_features, degree=2, interaction_only=False):\n",
    "        self.numerical_features = numerical_features\n",
    "        self.degree = degree\n",
    "        self.interaction_only = interaction_only\n",
    "        self.transformer = PolynomialFeatures(degree=self.degree, interaction_only=self.interaction_only, include_bias=False)\n",
    "\n",
    "    def fit(self, X, y=None):\n",
    "        X_copy = X.copy()\n",
    "        \n",
    "        self.transformer.fit(X_copy[self.numerical_features])\n",
    "        self.polynomial_features = [f_.replace(\" \", \"_\") for f_ in self.transformer.get_feature_names_out()]\n",
    "        \n",
    "        return self\n",
    "    \n",
    "    def transform(self, X):\n",
    "        X_copy = X.copy()\n",
    "        \n",
    "        X_copy[[f\"{f_}_poly\" for f_ in self.polynomial_features]] = self.transformer.transform(X_copy[self.numerical_features])\n",
    "        \n",
    "        return X_copy"
   ]
  },
  {
   "cell_type": "code",
   "execution_count": 27,
   "metadata": {},
   "outputs": [],
   "source": [
    "poly_trf = PolynomialFeaturesTransformer(numerical_features=NUMERICAL_FEATURES, degree=3, interaction_only=True)"
   ]
  },
  {
   "cell_type": "code",
   "execution_count": 28,
   "metadata": {},
   "outputs": [
    {
     "data": {
      "text/html": [
       "<style>#sk-container-id-4 {color: black;background-color: white;}#sk-container-id-4 pre{padding: 0;}#sk-container-id-4 div.sk-toggleable {background-color: white;}#sk-container-id-4 label.sk-toggleable__label {cursor: pointer;display: block;width: 100%;margin-bottom: 0;padding: 0.3em;box-sizing: border-box;text-align: center;}#sk-container-id-4 label.sk-toggleable__label-arrow:before {content: \"▸\";float: left;margin-right: 0.25em;color: #696969;}#sk-container-id-4 label.sk-toggleable__label-arrow:hover:before {color: black;}#sk-container-id-4 div.sk-estimator:hover label.sk-toggleable__label-arrow:before {color: black;}#sk-container-id-4 div.sk-toggleable__content {max-height: 0;max-width: 0;overflow: hidden;text-align: left;background-color: #f0f8ff;}#sk-container-id-4 div.sk-toggleable__content pre {margin: 0.2em;color: black;border-radius: 0.25em;background-color: #f0f8ff;}#sk-container-id-4 input.sk-toggleable__control:checked~div.sk-toggleable__content {max-height: 200px;max-width: 100%;overflow: auto;}#sk-container-id-4 input.sk-toggleable__control:checked~label.sk-toggleable__label-arrow:before {content: \"▾\";}#sk-container-id-4 div.sk-estimator input.sk-toggleable__control:checked~label.sk-toggleable__label {background-color: #d4ebff;}#sk-container-id-4 div.sk-label input.sk-toggleable__control:checked~label.sk-toggleable__label {background-color: #d4ebff;}#sk-container-id-4 input.sk-hidden--visually {border: 0;clip: rect(1px 1px 1px 1px);clip: rect(1px, 1px, 1px, 1px);height: 1px;margin: -1px;overflow: hidden;padding: 0;position: absolute;width: 1px;}#sk-container-id-4 div.sk-estimator {font-family: monospace;background-color: #f0f8ff;border: 1px dotted black;border-radius: 0.25em;box-sizing: border-box;margin-bottom: 0.5em;}#sk-container-id-4 div.sk-estimator:hover {background-color: #d4ebff;}#sk-container-id-4 div.sk-parallel-item::after {content: \"\";width: 100%;border-bottom: 1px solid gray;flex-grow: 1;}#sk-container-id-4 div.sk-label:hover label.sk-toggleable__label {background-color: #d4ebff;}#sk-container-id-4 div.sk-serial::before {content: \"\";position: absolute;border-left: 1px solid gray;box-sizing: border-box;top: 0;bottom: 0;left: 50%;z-index: 0;}#sk-container-id-4 div.sk-serial {display: flex;flex-direction: column;align-items: center;background-color: white;padding-right: 0.2em;padding-left: 0.2em;position: relative;}#sk-container-id-4 div.sk-item {position: relative;z-index: 1;}#sk-container-id-4 div.sk-parallel {display: flex;align-items: stretch;justify-content: center;background-color: white;position: relative;}#sk-container-id-4 div.sk-item::before, #sk-container-id-4 div.sk-parallel-item::before {content: \"\";position: absolute;border-left: 1px solid gray;box-sizing: border-box;top: 0;bottom: 0;left: 50%;z-index: -1;}#sk-container-id-4 div.sk-parallel-item {display: flex;flex-direction: column;z-index: 1;position: relative;background-color: white;}#sk-container-id-4 div.sk-parallel-item:first-child::after {align-self: flex-end;width: 50%;}#sk-container-id-4 div.sk-parallel-item:last-child::after {align-self: flex-start;width: 50%;}#sk-container-id-4 div.sk-parallel-item:only-child::after {width: 0;}#sk-container-id-4 div.sk-dashed-wrapped {border: 1px dashed gray;margin: 0 0.4em 0.5em 0.4em;box-sizing: border-box;padding-bottom: 0.4em;background-color: white;}#sk-container-id-4 div.sk-label label {font-family: monospace;font-weight: bold;display: inline-block;line-height: 1.2em;}#sk-container-id-4 div.sk-label-container {text-align: center;}#sk-container-id-4 div.sk-container {/* jupyter's `normalize.less` sets `[hidden] { display: none; }` but bootstrap.min.css set `[hidden] { display: none !important; }` so we also need the `!important` here to be able to override the default hidden behavior on the sphinx rendered scikit-learn.org. See: https://github.com/scikit-learn/scikit-learn/issues/21755 */display: inline-block !important;position: relative;}#sk-container-id-4 div.sk-text-repr-fallback {display: none;}</style><div id=\"sk-container-id-4\" class=\"sk-top-container\"><div class=\"sk-text-repr-fallback\"><pre>PolynomialFeaturesTransformer(degree=3, interaction_only=True,\n",
       "                              numerical_features=[&#x27;age&#x27;, &#x27;balance&#x27;, &#x27;duration&#x27;,\n",
       "                                                  &#x27;campaign&#x27;, &#x27;pdays&#x27;,\n",
       "                                                  &#x27;previous&#x27;])</pre><b>In a Jupyter environment, please rerun this cell to show the HTML representation or trust the notebook. <br />On GitHub, the HTML representation is unable to render, please try loading this page with nbviewer.org.</b></div><div class=\"sk-container\" hidden><div class=\"sk-item\"><div class=\"sk-estimator sk-toggleable\"><input class=\"sk-toggleable__control sk-hidden--visually\" id=\"sk-estimator-id-4\" type=\"checkbox\" checked><label for=\"sk-estimator-id-4\" class=\"sk-toggleable__label sk-toggleable__label-arrow\">PolynomialFeaturesTransformer</label><div class=\"sk-toggleable__content\"><pre>PolynomialFeaturesTransformer(degree=3, interaction_only=True,\n",
       "                              numerical_features=[&#x27;age&#x27;, &#x27;balance&#x27;, &#x27;duration&#x27;,\n",
       "                                                  &#x27;campaign&#x27;, &#x27;pdays&#x27;,\n",
       "                                                  &#x27;previous&#x27;])</pre></div></div></div></div></div>"
      ],
      "text/plain": [
       "PolynomialFeaturesTransformer(degree=3, interaction_only=True,\n",
       "                              numerical_features=['age', 'balance', 'duration',\n",
       "                                                  'campaign', 'pdays',\n",
       "                                                  'previous'])"
      ]
     },
     "execution_count": 28,
     "metadata": {},
     "output_type": "execute_result"
    }
   ],
   "source": [
    "poly_trf.fit(train_df)"
   ]
  },
  {
   "cell_type": "code",
   "execution_count": 29,
   "metadata": {},
   "outputs": [],
   "source": [
    "train_poly = poly_trf.transform(train_df)"
   ]
  },
  {
   "cell_type": "code",
   "execution_count": null,
   "metadata": {},
   "outputs": [],
   "source": []
  },
  {
   "cell_type": "code",
   "execution_count": 30,
   "metadata": {},
   "outputs": [],
   "source": [
    "class MinMaxScalerTransformer(BaseEstimator, TransformerMixin):\n",
    "    \n",
    "    def __init__(self, numerical_features):\n",
    "        self.numerical_features = numerical_features\n",
    "        self.scaler = MinMaxScaler()\n",
    "\n",
    "    def fit(self, X, y=None):\n",
    "        X_copy = X.copy()\n",
    "        \n",
    "        ### Check for polynomial features\n",
    "        poly_feats = [f_ for f_ in X_copy.columns if \"_poly\" in f_]\n",
    "        \n",
    "        if len(poly_feats) > 0:\n",
    "            self.scaler.fit(X_copy[self.numerical_features+poly_feats])\n",
    "        else:\n",
    "            self.scaler.fit(X_copy[self.numerical_features])\n",
    "        \n",
    "        \n",
    "        return self\n",
    "    \n",
    "    def transform(self, X):\n",
    "        X_copy = X.copy()\n",
    "        \n",
    "        ### Check for polynomial features\n",
    "        poly_feats = [f_ for f_ in X_copy.columns if \"_poly\" in f_]\n",
    "        \n",
    "        if len(poly_feats) > 0:\n",
    "            X_copy[[f\"{f_}_scaled\" for f_ in self.numerical_features+poly_feats]] = self.scaler.transform(X_copy[self.numerical_features+poly_feats])\n",
    "        else:\n",
    "            X_copy[[f\"{f_}_scaled\" for f_ in self.numerical_features]] = self.scaler.transform(X_copy[self.numerical_features])\n",
    "        \n",
    "        \n",
    "        \n",
    "        return X_copy"
   ]
  },
  {
   "cell_type": "code",
   "execution_count": 31,
   "metadata": {},
   "outputs": [],
   "source": [
    "mm_scaler = MinMaxScalerTransformer(numerical_features=NUMERICAL_FEATURES)"
   ]
  },
  {
   "cell_type": "code",
   "execution_count": 32,
   "metadata": {},
   "outputs": [
    {
     "data": {
      "text/html": [
       "<style>#sk-container-id-5 {color: black;background-color: white;}#sk-container-id-5 pre{padding: 0;}#sk-container-id-5 div.sk-toggleable {background-color: white;}#sk-container-id-5 label.sk-toggleable__label {cursor: pointer;display: block;width: 100%;margin-bottom: 0;padding: 0.3em;box-sizing: border-box;text-align: center;}#sk-container-id-5 label.sk-toggleable__label-arrow:before {content: \"▸\";float: left;margin-right: 0.25em;color: #696969;}#sk-container-id-5 label.sk-toggleable__label-arrow:hover:before {color: black;}#sk-container-id-5 div.sk-estimator:hover label.sk-toggleable__label-arrow:before {color: black;}#sk-container-id-5 div.sk-toggleable__content {max-height: 0;max-width: 0;overflow: hidden;text-align: left;background-color: #f0f8ff;}#sk-container-id-5 div.sk-toggleable__content pre {margin: 0.2em;color: black;border-radius: 0.25em;background-color: #f0f8ff;}#sk-container-id-5 input.sk-toggleable__control:checked~div.sk-toggleable__content {max-height: 200px;max-width: 100%;overflow: auto;}#sk-container-id-5 input.sk-toggleable__control:checked~label.sk-toggleable__label-arrow:before {content: \"▾\";}#sk-container-id-5 div.sk-estimator input.sk-toggleable__control:checked~label.sk-toggleable__label {background-color: #d4ebff;}#sk-container-id-5 div.sk-label input.sk-toggleable__control:checked~label.sk-toggleable__label {background-color: #d4ebff;}#sk-container-id-5 input.sk-hidden--visually {border: 0;clip: rect(1px 1px 1px 1px);clip: rect(1px, 1px, 1px, 1px);height: 1px;margin: -1px;overflow: hidden;padding: 0;position: absolute;width: 1px;}#sk-container-id-5 div.sk-estimator {font-family: monospace;background-color: #f0f8ff;border: 1px dotted black;border-radius: 0.25em;box-sizing: border-box;margin-bottom: 0.5em;}#sk-container-id-5 div.sk-estimator:hover {background-color: #d4ebff;}#sk-container-id-5 div.sk-parallel-item::after {content: \"\";width: 100%;border-bottom: 1px solid gray;flex-grow: 1;}#sk-container-id-5 div.sk-label:hover label.sk-toggleable__label {background-color: #d4ebff;}#sk-container-id-5 div.sk-serial::before {content: \"\";position: absolute;border-left: 1px solid gray;box-sizing: border-box;top: 0;bottom: 0;left: 50%;z-index: 0;}#sk-container-id-5 div.sk-serial {display: flex;flex-direction: column;align-items: center;background-color: white;padding-right: 0.2em;padding-left: 0.2em;position: relative;}#sk-container-id-5 div.sk-item {position: relative;z-index: 1;}#sk-container-id-5 div.sk-parallel {display: flex;align-items: stretch;justify-content: center;background-color: white;position: relative;}#sk-container-id-5 div.sk-item::before, #sk-container-id-5 div.sk-parallel-item::before {content: \"\";position: absolute;border-left: 1px solid gray;box-sizing: border-box;top: 0;bottom: 0;left: 50%;z-index: -1;}#sk-container-id-5 div.sk-parallel-item {display: flex;flex-direction: column;z-index: 1;position: relative;background-color: white;}#sk-container-id-5 div.sk-parallel-item:first-child::after {align-self: flex-end;width: 50%;}#sk-container-id-5 div.sk-parallel-item:last-child::after {align-self: flex-start;width: 50%;}#sk-container-id-5 div.sk-parallel-item:only-child::after {width: 0;}#sk-container-id-5 div.sk-dashed-wrapped {border: 1px dashed gray;margin: 0 0.4em 0.5em 0.4em;box-sizing: border-box;padding-bottom: 0.4em;background-color: white;}#sk-container-id-5 div.sk-label label {font-family: monospace;font-weight: bold;display: inline-block;line-height: 1.2em;}#sk-container-id-5 div.sk-label-container {text-align: center;}#sk-container-id-5 div.sk-container {/* jupyter's `normalize.less` sets `[hidden] { display: none; }` but bootstrap.min.css set `[hidden] { display: none !important; }` so we also need the `!important` here to be able to override the default hidden behavior on the sphinx rendered scikit-learn.org. See: https://github.com/scikit-learn/scikit-learn/issues/21755 */display: inline-block !important;position: relative;}#sk-container-id-5 div.sk-text-repr-fallback {display: none;}</style><div id=\"sk-container-id-5\" class=\"sk-top-container\"><div class=\"sk-text-repr-fallback\"><pre>MinMaxScalerTransformer(numerical_features=[&#x27;age&#x27;, &#x27;balance&#x27;, &#x27;duration&#x27;,\n",
       "                                            &#x27;campaign&#x27;, &#x27;pdays&#x27;, &#x27;previous&#x27;])</pre><b>In a Jupyter environment, please rerun this cell to show the HTML representation or trust the notebook. <br />On GitHub, the HTML representation is unable to render, please try loading this page with nbviewer.org.</b></div><div class=\"sk-container\" hidden><div class=\"sk-item\"><div class=\"sk-estimator sk-toggleable\"><input class=\"sk-toggleable__control sk-hidden--visually\" id=\"sk-estimator-id-5\" type=\"checkbox\" checked><label for=\"sk-estimator-id-5\" class=\"sk-toggleable__label sk-toggleable__label-arrow\">MinMaxScalerTransformer</label><div class=\"sk-toggleable__content\"><pre>MinMaxScalerTransformer(numerical_features=[&#x27;age&#x27;, &#x27;balance&#x27;, &#x27;duration&#x27;,\n",
       "                                            &#x27;campaign&#x27;, &#x27;pdays&#x27;, &#x27;previous&#x27;])</pre></div></div></div></div></div>"
      ],
      "text/plain": [
       "MinMaxScalerTransformer(numerical_features=['age', 'balance', 'duration',\n",
       "                                            'campaign', 'pdays', 'previous'])"
      ]
     },
     "execution_count": 32,
     "metadata": {},
     "output_type": "execute_result"
    }
   ],
   "source": [
    "mm_scaler.fit(train_poly)"
   ]
  },
  {
   "cell_type": "code",
   "execution_count": 33,
   "metadata": {},
   "outputs": [
    {
     "data": {
      "text/plain": [
       "(36168, 105)"
      ]
     },
     "execution_count": 33,
     "metadata": {},
     "output_type": "execute_result"
    }
   ],
   "source": [
    "mm_scaler.transform(train_poly).shape"
   ]
  },
  {
   "cell_type": "code",
   "execution_count": null,
   "metadata": {},
   "outputs": [],
   "source": []
  },
  {
   "cell_type": "code",
   "execution_count": 63,
   "metadata": {},
   "outputs": [],
   "source": [
    "class XGBClassifierTransformer(BaseEstimator, TransformerMixin):\n",
    "    \n",
    "    def __init__(self, target_feature, estimators=500):\n",
    "        self.target_feature = target_feature\n",
    "        self.estimators = estimators\n",
    "        \n",
    "        self.classifier = XGBClassifier(n_estimators=self.estimators)\n",
    "\n",
    "    def fit(self, X, y=None):\n",
    "        X_copy = X.copy()\n",
    "        \n",
    "        # Get features to use\n",
    "        model_features = [f_ for f_ in X_copy.columns if (\"_scaled\" in f_) | (\"_ohenc\" in f_)]\n",
    "        \n",
    "        self.model_features = model_features\n",
    "        \n",
    "        # Fit model\n",
    "        self.classifier.fit(X_copy[self.model_features].values, X_copy[self.target_feature].values)\n",
    "        \n",
    "        # Get predictions to fit threshold optimizing f1 score\n",
    "        train_pred = self.classifier.predict_proba(X_copy[model_features].values)[:,1]\n",
    "\n",
    "        thresholds_ = np.arange(0, 1, 0.05)\n",
    "        f1_scores_ = []\n",
    "\n",
    "        for th_ in thresholds_:\n",
    "            f1_score_ = f1_score(tr_test[TARGET_FEATURE], (test_pred > th_).astype(int))\n",
    "            f1_scores_.append(f1_score_)\n",
    "            \n",
    "        self.best_threshold = thresholds_[np.argmax(f1_scores_)]\n",
    "        \n",
    "        return self\n",
    "    \n",
    "    def transform(self, X):\n",
    "        X_copy = X.copy()\n",
    "        \n",
    "        pred_X = self.classifier.predict_proba(X_copy[self.model_features].values)[:,1]\n",
    "        binary_X = (pred_X > self.best_threshold).astype(int)\n",
    "        \n",
    "        predictions = pd.DataFrame(data={\"prediction_float\":pred_X, \"prediction_boolean\":binary_X}, index=X_copy.index)        \n",
    "        \n",
    "        return predictions"
   ]
  },
  {
   "cell_type": "code",
   "execution_count": null,
   "metadata": {},
   "outputs": [],
   "source": []
  },
  {
   "cell_type": "code",
   "execution_count": null,
   "metadata": {},
   "outputs": [],
   "source": []
  },
  {
   "cell_type": "code",
   "execution_count": null,
   "metadata": {},
   "outputs": [],
   "source": []
  },
  {
   "cell_type": "code",
   "execution_count": 64,
   "metadata": {},
   "outputs": [],
   "source": [
    "pipeline = Pipeline(\n",
    "    [\n",
    "        ('target_encoding', SmoothedTargetEncodingTransformer(\n",
    "            categorical_features=CATEGORICAL_FEATURES, \n",
    "            target_feature=TARGET_FEATURE, \n",
    "            m=0.05)\n",
    "        ),\n",
    "        \n",
    "        ('one_hot_encoding', OneHotEncoderTransformer(\n",
    "            categorical_features=CATEGORICAL_FEATURES)\n",
    "        ),\n",
    "        \n",
    "        ('polynomial_features', PolynomialFeaturesTransformer(\n",
    "            numerical_features=NUMERICAL_FEATURES, \n",
    "            degree=2, \n",
    "            interaction_only=True)\n",
    "        ),\n",
    "        \n",
    "        ('min_max_scaler',  MinMaxScalerTransformer(\n",
    "            numerical_features=NUMERICAL_FEATURES)\n",
    "        ),\n",
    "        \n",
    "        ('xgboost_classfier',  XGBClassifierTransformer(\n",
    "            target_feature=TARGET_FEATURE)\n",
    "        )\n",
    "    ]\n",
    ")"
   ]
  },
  {
   "cell_type": "code",
   "execution_count": 65,
   "metadata": {},
   "outputs": [
    {
     "name": "stderr",
     "output_type": "stream",
     "text": [
      "/home/baylonj/anaconda3/lib/python3.8/site-packages/xgboost/sklearn.py:892: UserWarning: The use of label encoder in XGBClassifier is deprecated and will be removed in a future release. To remove this warning, do the following: 1) Pass option use_label_encoder=False when constructing XGBClassifier object; and 2) Encode your labels (y) as integers starting with 0, i.e. 0, 1, 2, ..., [num_class - 1].\n",
      "  warnings.warn(label_encoder_deprecation_msg, UserWarning)\n"
     ]
    },
    {
     "name": "stdout",
     "output_type": "stream",
     "text": [
      "[13:03:02] WARNING: ../src/learner.cc:1061: Starting in XGBoost 1.3.0, the default evaluation metric used with the objective 'binary:logistic' was changed from 'error' to 'logloss'. Explicitly set eval_metric if you'd like to restore the old behavior.\n"
     ]
    },
    {
     "data": {
      "text/html": [
       "<style>#sk-container-id-8 {color: black;background-color: white;}#sk-container-id-8 pre{padding: 0;}#sk-container-id-8 div.sk-toggleable {background-color: white;}#sk-container-id-8 label.sk-toggleable__label {cursor: pointer;display: block;width: 100%;margin-bottom: 0;padding: 0.3em;box-sizing: border-box;text-align: center;}#sk-container-id-8 label.sk-toggleable__label-arrow:before {content: \"▸\";float: left;margin-right: 0.25em;color: #696969;}#sk-container-id-8 label.sk-toggleable__label-arrow:hover:before {color: black;}#sk-container-id-8 div.sk-estimator:hover label.sk-toggleable__label-arrow:before {color: black;}#sk-container-id-8 div.sk-toggleable__content {max-height: 0;max-width: 0;overflow: hidden;text-align: left;background-color: #f0f8ff;}#sk-container-id-8 div.sk-toggleable__content pre {margin: 0.2em;color: black;border-radius: 0.25em;background-color: #f0f8ff;}#sk-container-id-8 input.sk-toggleable__control:checked~div.sk-toggleable__content {max-height: 200px;max-width: 100%;overflow: auto;}#sk-container-id-8 input.sk-toggleable__control:checked~label.sk-toggleable__label-arrow:before {content: \"▾\";}#sk-container-id-8 div.sk-estimator input.sk-toggleable__control:checked~label.sk-toggleable__label {background-color: #d4ebff;}#sk-container-id-8 div.sk-label input.sk-toggleable__control:checked~label.sk-toggleable__label {background-color: #d4ebff;}#sk-container-id-8 input.sk-hidden--visually {border: 0;clip: rect(1px 1px 1px 1px);clip: rect(1px, 1px, 1px, 1px);height: 1px;margin: -1px;overflow: hidden;padding: 0;position: absolute;width: 1px;}#sk-container-id-8 div.sk-estimator {font-family: monospace;background-color: #f0f8ff;border: 1px dotted black;border-radius: 0.25em;box-sizing: border-box;margin-bottom: 0.5em;}#sk-container-id-8 div.sk-estimator:hover {background-color: #d4ebff;}#sk-container-id-8 div.sk-parallel-item::after {content: \"\";width: 100%;border-bottom: 1px solid gray;flex-grow: 1;}#sk-container-id-8 div.sk-label:hover label.sk-toggleable__label {background-color: #d4ebff;}#sk-container-id-8 div.sk-serial::before {content: \"\";position: absolute;border-left: 1px solid gray;box-sizing: border-box;top: 0;bottom: 0;left: 50%;z-index: 0;}#sk-container-id-8 div.sk-serial {display: flex;flex-direction: column;align-items: center;background-color: white;padding-right: 0.2em;padding-left: 0.2em;position: relative;}#sk-container-id-8 div.sk-item {position: relative;z-index: 1;}#sk-container-id-8 div.sk-parallel {display: flex;align-items: stretch;justify-content: center;background-color: white;position: relative;}#sk-container-id-8 div.sk-item::before, #sk-container-id-8 div.sk-parallel-item::before {content: \"\";position: absolute;border-left: 1px solid gray;box-sizing: border-box;top: 0;bottom: 0;left: 50%;z-index: -1;}#sk-container-id-8 div.sk-parallel-item {display: flex;flex-direction: column;z-index: 1;position: relative;background-color: white;}#sk-container-id-8 div.sk-parallel-item:first-child::after {align-self: flex-end;width: 50%;}#sk-container-id-8 div.sk-parallel-item:last-child::after {align-self: flex-start;width: 50%;}#sk-container-id-8 div.sk-parallel-item:only-child::after {width: 0;}#sk-container-id-8 div.sk-dashed-wrapped {border: 1px dashed gray;margin: 0 0.4em 0.5em 0.4em;box-sizing: border-box;padding-bottom: 0.4em;background-color: white;}#sk-container-id-8 div.sk-label label {font-family: monospace;font-weight: bold;display: inline-block;line-height: 1.2em;}#sk-container-id-8 div.sk-label-container {text-align: center;}#sk-container-id-8 div.sk-container {/* jupyter's `normalize.less` sets `[hidden] { display: none; }` but bootstrap.min.css set `[hidden] { display: none !important; }` so we also need the `!important` here to be able to override the default hidden behavior on the sphinx rendered scikit-learn.org. See: https://github.com/scikit-learn/scikit-learn/issues/21755 */display: inline-block !important;position: relative;}#sk-container-id-8 div.sk-text-repr-fallback {display: none;}</style><div id=\"sk-container-id-8\" class=\"sk-top-container\"><div class=\"sk-text-repr-fallback\"><pre>Pipeline(steps=[(&#x27;target_encoding&#x27;,\n",
       "                 SmoothedTargetEncodingTransformer(categorical_features=[&#x27;job&#x27;,\n",
       "                                                                         &#x27;marital&#x27;,\n",
       "                                                                         &#x27;education&#x27;,\n",
       "                                                                         &#x27;default&#x27;,\n",
       "                                                                         &#x27;housing&#x27;,\n",
       "                                                                         &#x27;loan&#x27;,\n",
       "                                                                         &#x27;contact&#x27;,\n",
       "                                                                         &#x27;day_of_week&#x27;,\n",
       "                                                                         &#x27;month&#x27;,\n",
       "                                                                         &#x27;poutcome&#x27;],\n",
       "                                                   m=0.05,\n",
       "                                                   target_feature=&#x27;y&#x27;)),\n",
       "                (&#x27;one_hot_encoding&#x27;,\n",
       "                 OneHotEncoderTransformer(categorical_features=[&#x27;job&#x27;,\n",
       "                                                                &#x27;marital&#x27;,\n",
       "                                                                &#x27;education&#x27;,\n",
       "                                                                &#x27;default&#x27;,\n",
       "                                                                &#x27;housing&#x27;,\n",
       "                                                                &#x27;loan&#x27;,\n",
       "                                                                &#x27;contact&#x27;,...\n",
       "                                                                &#x27;poutcome&#x27;])),\n",
       "                (&#x27;polynomial_features&#x27;,\n",
       "                 PolynomialFeaturesTransformer(interaction_only=True,\n",
       "                                               numerical_features=[&#x27;age&#x27;,\n",
       "                                                                   &#x27;balance&#x27;,\n",
       "                                                                   &#x27;duration&#x27;,\n",
       "                                                                   &#x27;campaign&#x27;,\n",
       "                                                                   &#x27;pdays&#x27;,\n",
       "                                                                   &#x27;previous&#x27;])),\n",
       "                (&#x27;min_max_scaler&#x27;,\n",
       "                 MinMaxScalerTransformer(numerical_features=[&#x27;age&#x27;, &#x27;balance&#x27;,\n",
       "                                                             &#x27;duration&#x27;,\n",
       "                                                             &#x27;campaign&#x27;,\n",
       "                                                             &#x27;pdays&#x27;,\n",
       "                                                             &#x27;previous&#x27;])),\n",
       "                (&#x27;xgboost_classfier&#x27;,\n",
       "                 XGBClassifierTransformer(target_feature=&#x27;y&#x27;))])</pre><b>In a Jupyter environment, please rerun this cell to show the HTML representation or trust the notebook. <br />On GitHub, the HTML representation is unable to render, please try loading this page with nbviewer.org.</b></div><div class=\"sk-container\" hidden><div class=\"sk-item sk-dashed-wrapped\"><div class=\"sk-label-container\"><div class=\"sk-label sk-toggleable\"><input class=\"sk-toggleable__control sk-hidden--visually\" id=\"sk-estimator-id-12\" type=\"checkbox\" ><label for=\"sk-estimator-id-12\" class=\"sk-toggleable__label sk-toggleable__label-arrow\">Pipeline</label><div class=\"sk-toggleable__content\"><pre>Pipeline(steps=[(&#x27;target_encoding&#x27;,\n",
       "                 SmoothedTargetEncodingTransformer(categorical_features=[&#x27;job&#x27;,\n",
       "                                                                         &#x27;marital&#x27;,\n",
       "                                                                         &#x27;education&#x27;,\n",
       "                                                                         &#x27;default&#x27;,\n",
       "                                                                         &#x27;housing&#x27;,\n",
       "                                                                         &#x27;loan&#x27;,\n",
       "                                                                         &#x27;contact&#x27;,\n",
       "                                                                         &#x27;day_of_week&#x27;,\n",
       "                                                                         &#x27;month&#x27;,\n",
       "                                                                         &#x27;poutcome&#x27;],\n",
       "                                                   m=0.05,\n",
       "                                                   target_feature=&#x27;y&#x27;)),\n",
       "                (&#x27;one_hot_encoding&#x27;,\n",
       "                 OneHotEncoderTransformer(categorical_features=[&#x27;job&#x27;,\n",
       "                                                                &#x27;marital&#x27;,\n",
       "                                                                &#x27;education&#x27;,\n",
       "                                                                &#x27;default&#x27;,\n",
       "                                                                &#x27;housing&#x27;,\n",
       "                                                                &#x27;loan&#x27;,\n",
       "                                                                &#x27;contact&#x27;,...\n",
       "                                                                &#x27;poutcome&#x27;])),\n",
       "                (&#x27;polynomial_features&#x27;,\n",
       "                 PolynomialFeaturesTransformer(interaction_only=True,\n",
       "                                               numerical_features=[&#x27;age&#x27;,\n",
       "                                                                   &#x27;balance&#x27;,\n",
       "                                                                   &#x27;duration&#x27;,\n",
       "                                                                   &#x27;campaign&#x27;,\n",
       "                                                                   &#x27;pdays&#x27;,\n",
       "                                                                   &#x27;previous&#x27;])),\n",
       "                (&#x27;min_max_scaler&#x27;,\n",
       "                 MinMaxScalerTransformer(numerical_features=[&#x27;age&#x27;, &#x27;balance&#x27;,\n",
       "                                                             &#x27;duration&#x27;,\n",
       "                                                             &#x27;campaign&#x27;,\n",
       "                                                             &#x27;pdays&#x27;,\n",
       "                                                             &#x27;previous&#x27;])),\n",
       "                (&#x27;xgboost_classfier&#x27;,\n",
       "                 XGBClassifierTransformer(target_feature=&#x27;y&#x27;))])</pre></div></div></div><div class=\"sk-serial\"><div class=\"sk-item\"><div class=\"sk-estimator sk-toggleable\"><input class=\"sk-toggleable__control sk-hidden--visually\" id=\"sk-estimator-id-13\" type=\"checkbox\" ><label for=\"sk-estimator-id-13\" class=\"sk-toggleable__label sk-toggleable__label-arrow\">SmoothedTargetEncodingTransformer</label><div class=\"sk-toggleable__content\"><pre>SmoothedTargetEncodingTransformer(categorical_features=[&#x27;job&#x27;, &#x27;marital&#x27;,\n",
       "                                                        &#x27;education&#x27;, &#x27;default&#x27;,\n",
       "                                                        &#x27;housing&#x27;, &#x27;loan&#x27;,\n",
       "                                                        &#x27;contact&#x27;,\n",
       "                                                        &#x27;day_of_week&#x27;, &#x27;month&#x27;,\n",
       "                                                        &#x27;poutcome&#x27;],\n",
       "                                  m=0.05, target_feature=&#x27;y&#x27;)</pre></div></div></div><div class=\"sk-item\"><div class=\"sk-estimator sk-toggleable\"><input class=\"sk-toggleable__control sk-hidden--visually\" id=\"sk-estimator-id-14\" type=\"checkbox\" ><label for=\"sk-estimator-id-14\" class=\"sk-toggleable__label sk-toggleable__label-arrow\">OneHotEncoderTransformer</label><div class=\"sk-toggleable__content\"><pre>OneHotEncoderTransformer(categorical_features=[&#x27;job&#x27;, &#x27;marital&#x27;, &#x27;education&#x27;,\n",
       "                                               &#x27;default&#x27;, &#x27;housing&#x27;, &#x27;loan&#x27;,\n",
       "                                               &#x27;contact&#x27;, &#x27;day_of_week&#x27;,\n",
       "                                               &#x27;month&#x27;, &#x27;poutcome&#x27;])</pre></div></div></div><div class=\"sk-item\"><div class=\"sk-estimator sk-toggleable\"><input class=\"sk-toggleable__control sk-hidden--visually\" id=\"sk-estimator-id-15\" type=\"checkbox\" ><label for=\"sk-estimator-id-15\" class=\"sk-toggleable__label sk-toggleable__label-arrow\">PolynomialFeaturesTransformer</label><div class=\"sk-toggleable__content\"><pre>PolynomialFeaturesTransformer(interaction_only=True,\n",
       "                              numerical_features=[&#x27;age&#x27;, &#x27;balance&#x27;, &#x27;duration&#x27;,\n",
       "                                                  &#x27;campaign&#x27;, &#x27;pdays&#x27;,\n",
       "                                                  &#x27;previous&#x27;])</pre></div></div></div><div class=\"sk-item\"><div class=\"sk-estimator sk-toggleable\"><input class=\"sk-toggleable__control sk-hidden--visually\" id=\"sk-estimator-id-16\" type=\"checkbox\" ><label for=\"sk-estimator-id-16\" class=\"sk-toggleable__label sk-toggleable__label-arrow\">MinMaxScalerTransformer</label><div class=\"sk-toggleable__content\"><pre>MinMaxScalerTransformer(numerical_features=[&#x27;age&#x27;, &#x27;balance&#x27;, &#x27;duration&#x27;,\n",
       "                                            &#x27;campaign&#x27;, &#x27;pdays&#x27;, &#x27;previous&#x27;])</pre></div></div></div><div class=\"sk-item\"><div class=\"sk-estimator sk-toggleable\"><input class=\"sk-toggleable__control sk-hidden--visually\" id=\"sk-estimator-id-17\" type=\"checkbox\" ><label for=\"sk-estimator-id-17\" class=\"sk-toggleable__label sk-toggleable__label-arrow\">XGBClassifierTransformer</label><div class=\"sk-toggleable__content\"><pre>XGBClassifierTransformer(target_feature=&#x27;y&#x27;)</pre></div></div></div></div></div></div></div>"
      ],
      "text/plain": [
       "Pipeline(steps=[('target_encoding',\n",
       "                 SmoothedTargetEncodingTransformer(categorical_features=['job',\n",
       "                                                                         'marital',\n",
       "                                                                         'education',\n",
       "                                                                         'default',\n",
       "                                                                         'housing',\n",
       "                                                                         'loan',\n",
       "                                                                         'contact',\n",
       "                                                                         'day_of_week',\n",
       "                                                                         'month',\n",
       "                                                                         'poutcome'],\n",
       "                                                   m=0.05,\n",
       "                                                   target_feature='y')),\n",
       "                ('one_hot_encoding',\n",
       "                 OneHotEncoderTransformer(categorical_features=['job',\n",
       "                                                                'marital',\n",
       "                                                                'education',\n",
       "                                                                'default',\n",
       "                                                                'housing',\n",
       "                                                                'loan',\n",
       "                                                                'contact',...\n",
       "                                                                'poutcome'])),\n",
       "                ('polynomial_features',\n",
       "                 PolynomialFeaturesTransformer(interaction_only=True,\n",
       "                                               numerical_features=['age',\n",
       "                                                                   'balance',\n",
       "                                                                   'duration',\n",
       "                                                                   'campaign',\n",
       "                                                                   'pdays',\n",
       "                                                                   'previous'])),\n",
       "                ('min_max_scaler',\n",
       "                 MinMaxScalerTransformer(numerical_features=['age', 'balance',\n",
       "                                                             'duration',\n",
       "                                                             'campaign',\n",
       "                                                             'pdays',\n",
       "                                                             'previous'])),\n",
       "                ('xgboost_classfier',\n",
       "                 XGBClassifierTransformer(target_feature='y'))])"
      ]
     },
     "execution_count": 65,
     "metadata": {},
     "output_type": "execute_result"
    }
   ],
   "source": [
    "pipeline.fit(train_df)"
   ]
  },
  {
   "cell_type": "code",
   "execution_count": 66,
   "metadata": {},
   "outputs": [],
   "source": [
    "tr_train = pipeline.transform(train_df)"
   ]
  },
  {
   "cell_type": "code",
   "execution_count": 67,
   "metadata": {
    "scrolled": true
   },
   "outputs": [
    {
     "data": {
      "text/html": [
       "<div>\n",
       "<style scoped>\n",
       "    .dataframe tbody tr th:only-of-type {\n",
       "        vertical-align: middle;\n",
       "    }\n",
       "\n",
       "    .dataframe tbody tr th {\n",
       "        vertical-align: top;\n",
       "    }\n",
       "\n",
       "    .dataframe thead th {\n",
       "        text-align: right;\n",
       "    }\n",
       "</style>\n",
       "<table border=\"1\" class=\"dataframe\">\n",
       "  <thead>\n",
       "    <tr style=\"text-align: right;\">\n",
       "      <th></th>\n",
       "      <th>prediction_float</th>\n",
       "      <th>prediction_boolean</th>\n",
       "    </tr>\n",
       "  </thead>\n",
       "  <tbody>\n",
       "    <tr>\n",
       "      <th>26086</th>\n",
       "      <td>0.005336</td>\n",
       "      <td>0</td>\n",
       "    </tr>\n",
       "    <tr>\n",
       "      <th>7587</th>\n",
       "      <td>0.000003</td>\n",
       "      <td>0</td>\n",
       "    </tr>\n",
       "    <tr>\n",
       "      <th>30609</th>\n",
       "      <td>0.000002</td>\n",
       "      <td>0</td>\n",
       "    </tr>\n",
       "    <tr>\n",
       "      <th>17624</th>\n",
       "      <td>0.000135</td>\n",
       "      <td>0</td>\n",
       "    </tr>\n",
       "    <tr>\n",
       "      <th>6390</th>\n",
       "      <td>0.003787</td>\n",
       "      <td>0</td>\n",
       "    </tr>\n",
       "    <tr>\n",
       "      <th>...</th>\n",
       "      <td>...</td>\n",
       "      <td>...</td>\n",
       "    </tr>\n",
       "    <tr>\n",
       "      <th>40018</th>\n",
       "      <td>0.986604</td>\n",
       "      <td>1</td>\n",
       "    </tr>\n",
       "    <tr>\n",
       "      <th>44532</th>\n",
       "      <td>0.982363</td>\n",
       "      <td>1</td>\n",
       "    </tr>\n",
       "    <tr>\n",
       "      <th>7155</th>\n",
       "      <td>0.032084</td>\n",
       "      <td>0</td>\n",
       "    </tr>\n",
       "    <tr>\n",
       "      <th>4273</th>\n",
       "      <td>0.000186</td>\n",
       "      <td>0</td>\n",
       "    </tr>\n",
       "    <tr>\n",
       "      <th>4304</th>\n",
       "      <td>0.000055</td>\n",
       "      <td>0</td>\n",
       "    </tr>\n",
       "  </tbody>\n",
       "</table>\n",
       "<p>36168 rows × 2 columns</p>\n",
       "</div>"
      ],
      "text/plain": [
       "       prediction_float  prediction_boolean\n",
       "26086          0.005336                   0\n",
       "7587           0.000003                   0\n",
       "30609          0.000002                   0\n",
       "17624          0.000135                   0\n",
       "6390           0.003787                   0\n",
       "...                 ...                 ...\n",
       "40018          0.986604                   1\n",
       "44532          0.982363                   1\n",
       "7155           0.032084                   0\n",
       "4273           0.000186                   0\n",
       "4304           0.000055                   0\n",
       "\n",
       "[36168 rows x 2 columns]"
      ]
     },
     "execution_count": 67,
     "metadata": {},
     "output_type": "execute_result"
    }
   ],
   "source": [
    "tr_train"
   ]
  },
  {
   "cell_type": "code",
   "execution_count": 68,
   "metadata": {},
   "outputs": [],
   "source": [
    "tr_test = pipeline.transform(test_df)"
   ]
  },
  {
   "cell_type": "code",
   "execution_count": 70,
   "metadata": {},
   "outputs": [
    {
     "data": {
      "text/plain": [
       "0.2"
      ]
     },
     "execution_count": 70,
     "metadata": {},
     "output_type": "execute_result"
    }
   ],
   "source": [
    "pipeline[-1].best_threshold"
   ]
  },
  {
   "cell_type": "code",
   "execution_count": null,
   "metadata": {
    "scrolled": true
   },
   "outputs": [],
   "source": []
  },
  {
   "cell_type": "code",
   "execution_count": null,
   "metadata": {
    "scrolled": true
   },
   "outputs": [],
   "source": []
  },
  {
   "cell_type": "code",
   "execution_count": null,
   "metadata": {},
   "outputs": [],
   "source": []
  },
  {
   "cell_type": "code",
   "execution_count": null,
   "metadata": {},
   "outputs": [],
   "source": []
  },
  {
   "cell_type": "code",
   "execution_count": null,
   "metadata": {},
   "outputs": [],
   "source": []
  },
  {
   "cell_type": "code",
   "execution_count": 71,
   "metadata": {},
   "outputs": [
    {
     "data": {
      "text/plain": [
       "(0.11787895, 0.10326806, 0.11786662242866622, 0.11345792325555679)"
      ]
     },
     "execution_count": 71,
     "metadata": {},
     "output_type": "execute_result"
    }
   ],
   "source": [
    "tr_train[\"prediction_float\"].mean(), tr_test[\"prediction_float\"].mean(), train_df[TARGET_FEATURE].mean(), test_df[TARGET_FEATURE].mean()\n"
   ]
  },
  {
   "cell_type": "code",
   "execution_count": 72,
   "metadata": {},
   "outputs": [
    {
     "data": {
      "text/plain": [
       "0.9999756049169988"
      ]
     },
     "execution_count": 72,
     "metadata": {},
     "output_type": "execute_result"
    }
   ],
   "source": [
    "roc_auc_score(train_df[TARGET_FEATURE], tr_train[\"prediction_float\"])"
   ]
  },
  {
   "cell_type": "code",
   "execution_count": 73,
   "metadata": {},
   "outputs": [
    {
     "data": {
      "text/plain": [
       "0.9167951096123467"
      ]
     },
     "execution_count": 73,
     "metadata": {},
     "output_type": "execute_result"
    }
   ],
   "source": [
    "roc_auc_score(test_df[TARGET_FEATURE], tr_test[\"prediction_float\"])"
   ]
  },
  {
   "cell_type": "code",
   "execution_count": 77,
   "metadata": {},
   "outputs": [
    {
     "data": {
      "text/plain": [
       "0.9798642273616385"
      ]
     },
     "execution_count": 77,
     "metadata": {},
     "output_type": "execute_result"
    }
   ],
   "source": [
    "f1_score(train_df[TARGET_FEATURE], tr_train[\"prediction_boolean\"])"
   ]
  },
  {
   "cell_type": "code",
   "execution_count": 78,
   "metadata": {},
   "outputs": [
    {
     "data": {
      "text/plain": [
       "0.9616079494128275"
      ]
     },
     "execution_count": 78,
     "metadata": {},
     "output_type": "execute_result"
    }
   ],
   "source": [
    "precision_score(train_df[TARGET_FEATURE], tr_train[\"prediction_boolean\"])"
   ]
  },
  {
   "cell_type": "code",
   "execution_count": 79,
   "metadata": {},
   "outputs": [
    {
     "data": {
      "text/plain": [
       "0.9988271170537181"
      ]
     },
     "execution_count": 79,
     "metadata": {},
     "output_type": "execute_result"
    }
   ],
   "source": [
    "recall_score(train_df[TARGET_FEATURE], tr_train[\"prediction_boolean\"])"
   ]
  },
  {
   "cell_type": "code",
   "execution_count": 74,
   "metadata": {},
   "outputs": [
    {
     "data": {
      "text/plain": [
       "0.5902602854743914"
      ]
     },
     "execution_count": 74,
     "metadata": {},
     "output_type": "execute_result"
    }
   ],
   "source": [
    "f1_score(test_df[TARGET_FEATURE], tr_test[\"prediction_boolean\"])"
   ]
  },
  {
   "cell_type": "code",
   "execution_count": 75,
   "metadata": {},
   "outputs": [
    {
     "data": {
      "text/plain": [
       "0.5184365781710915"
      ]
     },
     "execution_count": 75,
     "metadata": {},
     "output_type": "execute_result"
    }
   ],
   "source": [
    "precision_score(test_df[TARGET_FEATURE], tr_test[\"prediction_boolean\"])"
   ]
  },
  {
   "cell_type": "code",
   "execution_count": 76,
   "metadata": {},
   "outputs": [
    {
     "data": {
      "text/plain": [
       "0.6851851851851852"
      ]
     },
     "execution_count": 76,
     "metadata": {},
     "output_type": "execute_result"
    }
   ],
   "source": [
    "recall_score(test_df[TARGET_FEATURE], tr_test[\"prediction_boolean\"])"
   ]
  },
  {
   "cell_type": "code",
   "execution_count": null,
   "metadata": {},
   "outputs": [],
   "source": []
  },
  {
   "cell_type": "code",
   "execution_count": null,
   "metadata": {},
   "outputs": [],
   "source": []
  },
  {
   "cell_type": "code",
   "execution_count": null,
   "metadata": {},
   "outputs": [],
   "source": []
  },
  {
   "cell_type": "code",
   "execution_count": null,
   "metadata": {},
   "outputs": [],
   "source": []
  },
  {
   "cell_type": "code",
   "execution_count": null,
   "metadata": {},
   "outputs": [],
   "source": []
  },
  {
   "cell_type": "code",
   "execution_count": null,
   "metadata": {},
   "outputs": [],
   "source": []
  },
  {
   "cell_type": "code",
   "execution_count": null,
   "metadata": {},
   "outputs": [],
   "source": []
  },
  {
   "cell_type": "code",
   "execution_count": null,
   "metadata": {},
   "outputs": [],
   "source": []
  },
  {
   "cell_type": "code",
   "execution_count": null,
   "metadata": {},
   "outputs": [],
   "source": []
  },
  {
   "cell_type": "code",
   "execution_count": null,
   "metadata": {},
   "outputs": [],
   "source": []
  },
  {
   "cell_type": "code",
   "execution_count": null,
   "metadata": {},
   "outputs": [],
   "source": []
  },
  {
   "cell_type": "code",
   "execution_count": null,
   "metadata": {},
   "outputs": [],
   "source": []
  },
  {
   "cell_type": "code",
   "execution_count": null,
   "metadata": {},
   "outputs": [],
   "source": []
  },
  {
   "cell_type": "code",
   "execution_count": null,
   "metadata": {},
   "outputs": [],
   "source": []
  }
 ],
 "metadata": {
  "kernelspec": {
   "display_name": "Python 3",
   "language": "python",
   "name": "python3"
  },
  "language_info": {
   "codemirror_mode": {
    "name": "ipython",
    "version": 3
   },
   "file_extension": ".py",
   "mimetype": "text/x-python",
   "name": "python",
   "nbconvert_exporter": "python",
   "pygments_lexer": "ipython3",
   "version": "3.8.3"
  }
 },
 "nbformat": 4,
 "nbformat_minor": 4
}
